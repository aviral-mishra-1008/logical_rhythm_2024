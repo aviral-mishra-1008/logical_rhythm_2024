{
 "cells": [
  {
   "cell_type": "markdown",
   "id": "b17d0daa",
   "metadata": {
    "papermill": {
     "duration": 0.019378,
     "end_time": "2024-11-10T14:16:14.116363",
     "exception": false,
     "start_time": "2024-11-10T14:16:14.096985",
     "status": "completed"
    },
    "tags": []
   },
   "source": [
    "<h1>CNN Approach"
   ]
  },
  {
   "cell_type": "markdown",
   "id": "a0047a9c",
   "metadata": {
    "papermill": {
     "duration": 0.019249,
     "end_time": "2024-11-10T14:16:14.154403",
     "exception": false,
     "start_time": "2024-11-10T14:16:14.135154",
     "status": "completed"
    },
    "tags": []
   },
   "source": [
    "Imports and Training Data"
   ]
  },
  {
   "cell_type": "code",
   "execution_count": 1,
   "id": "daf48e60",
   "metadata": {
    "execution": {
     "iopub.execute_input": "2024-11-10T14:16:14.193732Z",
     "iopub.status.busy": "2024-11-10T14:16:14.193202Z",
     "iopub.status.idle": "2024-11-10T14:16:15.215403Z",
     "shell.execute_reply": "2024-11-10T14:16:15.214138Z"
    },
    "papermill": {
     "duration": 1.045248,
     "end_time": "2024-11-10T14:16:15.218142",
     "exception": false,
     "start_time": "2024-11-10T14:16:14.172894",
     "status": "completed"
    },
    "tags": []
   },
   "outputs": [
    {
     "data": {
      "text/html": [
       "<div>\n",
       "<style scoped>\n",
       "    .dataframe tbody tr th:only-of-type {\n",
       "        vertical-align: middle;\n",
       "    }\n",
       "\n",
       "    .dataframe tbody tr th {\n",
       "        vertical-align: top;\n",
       "    }\n",
       "\n",
       "    .dataframe thead th {\n",
       "        text-align: right;\n",
       "    }\n",
       "</style>\n",
       "<table border=\"1\" class=\"dataframe\">\n",
       "  <thead>\n",
       "    <tr style=\"text-align: right;\">\n",
       "      <th></th>\n",
       "      <th>id</th>\n",
       "      <th>evaluation</th>\n",
       "    </tr>\n",
       "  </thead>\n",
       "  <tbody>\n",
       "    <tr>\n",
       "      <th>0</th>\n",
       "      <td>23207098</td>\n",
       "      <td>white</td>\n",
       "    </tr>\n",
       "    <tr>\n",
       "      <th>1</th>\n",
       "      <td>33225864</td>\n",
       "      <td>black</td>\n",
       "    </tr>\n",
       "    <tr>\n",
       "      <th>2</th>\n",
       "      <td>24017235</td>\n",
       "      <td>equal</td>\n",
       "    </tr>\n",
       "    <tr>\n",
       "      <th>3</th>\n",
       "      <td>19716795</td>\n",
       "      <td>black</td>\n",
       "    </tr>\n",
       "    <tr>\n",
       "      <th>4</th>\n",
       "      <td>10621512</td>\n",
       "      <td>black</td>\n",
       "    </tr>\n",
       "  </tbody>\n",
       "</table>\n",
       "</div>"
      ],
      "text/plain": [
       "         id evaluation\n",
       "0  23207098      white\n",
       "1  33225864      black\n",
       "2  24017235      equal\n",
       "3  19716795      black\n",
       "4  10621512      black"
      ]
     },
     "execution_count": 1,
     "metadata": {},
     "output_type": "execute_result"
    }
   ],
   "source": [
    "import pandas as pd\n",
    "df = pd.read_csv('/kaggle/input/the-streets-chess-showdown-white-vs-black/train.csv')\n",
    "df.head()"
   ]
  },
  {
   "cell_type": "markdown",
   "id": "639cd807",
   "metadata": {
    "papermill": {
     "duration": 0.018834,
     "end_time": "2024-11-10T14:16:15.256362",
     "exception": false,
     "start_time": "2024-11-10T14:16:15.237528",
     "status": "completed"
    },
    "tags": []
   },
   "source": [
    "Converting Images to FEN Encodings"
   ]
  },
  {
   "cell_type": "code",
   "execution_count": 2,
   "id": "83f7b7b7",
   "metadata": {
    "execution": {
     "iopub.execute_input": "2024-11-10T14:16:15.295622Z",
     "iopub.status.busy": "2024-11-10T14:16:15.295228Z",
     "iopub.status.idle": "2024-11-10T14:16:16.178589Z",
     "shell.execute_reply": "2024-11-10T14:16:16.177520Z"
    },
    "papermill": {
     "duration": 0.90626,
     "end_time": "2024-11-10T14:16:16.181379",
     "exception": false,
     "start_time": "2024-11-10T14:16:15.275119",
     "status": "completed"
    },
    "tags": []
   },
   "outputs": [],
   "source": [
    "#imports\n",
    "from skimage.metrics import structural_similarity as ssim\n",
    "import cv2\n",
    "import os"
   ]
  },
  {
   "cell_type": "code",
   "execution_count": 3,
   "id": "db412f1b",
   "metadata": {
    "execution": {
     "iopub.execute_input": "2024-11-10T14:16:16.222195Z",
     "iopub.status.busy": "2024-11-10T14:16:16.221610Z",
     "iopub.status.idle": "2024-11-10T14:16:16.227936Z",
     "shell.execute_reply": "2024-11-10T14:16:16.226718Z"
    },
    "papermill": {
     "duration": 0.029765,
     "end_time": "2024-11-10T14:16:16.230422",
     "exception": false,
     "start_time": "2024-11-10T14:16:16.200657",
     "status": "completed"
    },
    "tags": []
   },
   "outputs": [],
   "source": [
    "def compute_ssim(imageA, imageB):\n",
    "    imageA = cv2.cvtColor(imageA, cv2.COLOR_BGR2GRAY)\n",
    "    imageB = cv2.cvtColor(imageB, cv2.COLOR_BGR2GRAY)\n",
    "    return ssim(imageA, imageB)"
   ]
  },
  {
   "cell_type": "code",
   "execution_count": 4,
   "id": "5ea85487",
   "metadata": {
    "execution": {
     "iopub.execute_input": "2024-11-10T14:16:16.271292Z",
     "iopub.status.busy": "2024-11-10T14:16:16.270198Z",
     "iopub.status.idle": "2024-11-10T14:16:16.275985Z",
     "shell.execute_reply": "2024-11-10T14:16:16.274903Z"
    },
    "papermill": {
     "duration": 0.028925,
     "end_time": "2024-11-10T14:16:16.278375",
     "exception": false,
     "start_time": "2024-11-10T14:16:16.249450",
     "status": "completed"
    },
    "tags": []
   },
   "outputs": [],
   "source": [
    "fen_encoding = []\n",
    "labels = []"
   ]
  },
  {
   "cell_type": "code",
   "execution_count": 5,
   "id": "3a57c3b9",
   "metadata": {
    "execution": {
     "iopub.execute_input": "2024-11-10T14:16:16.317936Z",
     "iopub.status.busy": "2024-11-10T14:16:16.317451Z",
     "iopub.status.idle": "2024-11-10T14:16:16.324212Z",
     "shell.execute_reply": "2024-11-10T14:16:16.323075Z"
    },
    "papermill": {
     "duration": 0.029542,
     "end_time": "2024-11-10T14:16:16.326791",
     "exception": false,
     "start_time": "2024-11-10T14:16:16.297249",
     "status": "completed"
    },
    "tags": []
   },
   "outputs": [],
   "source": [
    "# for ind in df.index:\n",
    "#     img1 = cv2.imread('/kaggle/input/the-streets-chess-showdown-white-vs-black/train/'+str(df.loc[ind,'id'])+'.png')\n",
    "#     board = \"\"\n",
    "\n",
    "#     ##ITERATING OVER THE IMAGE\n",
    "#     for i in range(0,360,45):\n",
    "#         fen = \"\"\n",
    "#         count = 0\n",
    "#         for j in range(0,360,45):\n",
    "\n",
    "#             ##Cropping the image (45x45)\n",
    "#             img = img1[i:i+44,j:j+44]\n",
    "#             img = cv2.resize(img,(45,45))\n",
    "#             clas = None\n",
    "#             score = 0\n",
    "\n",
    "#             #compares similarity score with all other pieces available\n",
    "#             for k in os.listdir('/kaggle/input/pieces2/chess pieces/'):\n",
    "#                 imgcheck = cv2.imread('/kaggle/input/pieces2/chess pieces/'+k)\n",
    "#                 imgcheck = cv2.resize(imgcheck,(45,45))\n",
    "#                 scoreNow = compute_ssim(img,imgcheck)\n",
    "#                 if scoreNow>score:\n",
    "#                     score = scoreNow\n",
    "#                     clas = k[0]\n",
    "\n",
    "#             ##ADDING THE DETECTED PIECE\n",
    "#             if clas != '1' and count==0:\n",
    "#                 fen+=clas\n",
    "\n",
    "#             elif clas != '1' and count!=0:\n",
    "#                 fen+=str(count)\n",
    "#                 fen+=clas\n",
    "#                 count = 0\n",
    "#             else:\n",
    "#                  count+=1\n",
    "#         if count!=0:\n",
    "#             fen+=str(count)\n",
    "#         fen+='/'\n",
    "\n",
    "#         board+=fen\n",
    "#     fen_encoding.append(board)\n",
    "#     labels.append(df.loc[ind,'evaluation'])"
   ]
  },
  {
   "cell_type": "code",
   "execution_count": 6,
   "id": "60c7f57a",
   "metadata": {
    "execution": {
     "iopub.execute_input": "2024-11-10T14:16:16.366471Z",
     "iopub.status.busy": "2024-11-10T14:16:16.366046Z",
     "iopub.status.idle": "2024-11-10T14:16:16.371088Z",
     "shell.execute_reply": "2024-11-10T14:16:16.369904Z"
    },
    "papermill": {
     "duration": 0.027851,
     "end_time": "2024-11-10T14:16:16.373474",
     "exception": false,
     "start_time": "2024-11-10T14:16:16.345623",
     "status": "completed"
    },
    "tags": []
   },
   "outputs": [],
   "source": [
    "#import  pickle\n",
    "# with open('/kaggle/working/fen_encodings_labels.pkl', 'wb') as f: \n",
    "#     pickle.dump((fen_encoding, labels), f\n",
    "\n"
   ]
  },
  {
   "cell_type": "markdown",
   "id": "98781fe9",
   "metadata": {
    "papermill": {
     "duration": 0.018334,
     "end_time": "2024-11-10T14:16:16.410601",
     "exception": false,
     "start_time": "2024-11-10T14:16:16.392267",
     "status": "completed"
    },
    "tags": []
   },
   "source": [
    "FEN to Grayscale Images Arrays"
   ]
  },
  {
   "cell_type": "code",
   "execution_count": 7,
   "id": "da417667",
   "metadata": {
    "execution": {
     "iopub.execute_input": "2024-11-10T14:16:16.449868Z",
     "iopub.status.busy": "2024-11-10T14:16:16.449435Z",
     "iopub.status.idle": "2024-11-10T14:16:16.456122Z",
     "shell.execute_reply": "2024-11-10T14:16:16.454919Z"
    },
    "papermill": {
     "duration": 0.028993,
     "end_time": "2024-11-10T14:16:16.458314",
     "exception": false,
     "start_time": "2024-11-10T14:16:16.429321",
     "status": "completed"
    },
    "tags": []
   },
   "outputs": [],
   "source": [
    "import cv2\n",
    "import numpy as np\n",
    "\n",
    "piece_to_gray = {'K': 1.0, 'Q': 0.8, 'R': 0.6, 'B': 0.5, 'N': 0.4, 'P': 0.2, 'k': -1.0, 'q': -0.8, 'r': -0.6, 'b': -0.5, 'n': -0.4, 'p': -0.2, '.': 0.0}"
   ]
  },
  {
   "cell_type": "code",
   "execution_count": 8,
   "id": "39f8dab7",
   "metadata": {
    "execution": {
     "iopub.execute_input": "2024-11-10T14:16:16.498382Z",
     "iopub.status.busy": "2024-11-10T14:16:16.497453Z",
     "iopub.status.idle": "2024-11-10T14:16:16.502874Z",
     "shell.execute_reply": "2024-11-10T14:16:16.501736Z"
    },
    "papermill": {
     "duration": 0.028464,
     "end_time": "2024-11-10T14:16:16.505623",
     "exception": false,
     "start_time": "2024-11-10T14:16:16.477159",
     "status": "completed"
    },
    "tags": []
   },
   "outputs": [],
   "source": [
    "images = list()"
   ]
  },
  {
   "cell_type": "code",
   "execution_count": 9,
   "id": "5e0241c7",
   "metadata": {
    "execution": {
     "iopub.execute_input": "2024-11-10T14:16:16.547392Z",
     "iopub.status.busy": "2024-11-10T14:16:16.546937Z",
     "iopub.status.idle": "2024-11-10T14:16:16.592239Z",
     "shell.execute_reply": "2024-11-10T14:16:16.591018Z"
    },
    "papermill": {
     "duration": 0.070478,
     "end_time": "2024-11-10T14:16:16.595236",
     "exception": false,
     "start_time": "2024-11-10T14:16:16.524758",
     "status": "completed"
    },
    "tags": []
   },
   "outputs": [],
   "source": [
    "import pickle\n",
    "with open(\"/kaggle/input/encodi/train_set_encodings.pkl\",\"rb\") as f:\n",
    "    fen_encoding, labels = pickle.load(f)\n",
    "\n",
    "\n",
    "#Converting to numerical\n",
    "for ind,label in enumerate(labels):\n",
    "    if label=='white':\n",
    "        labels[ind] = 2\n",
    "    elif label=='equal':\n",
    "        labels[ind] = 1\n",
    "    else:\n",
    "        labels[ind] = 0"
   ]
  },
  {
   "cell_type": "code",
   "execution_count": 10,
   "id": "47ab0a77",
   "metadata": {
    "execution": {
     "iopub.execute_input": "2024-11-10T14:16:16.634470Z",
     "iopub.status.busy": "2024-11-10T14:16:16.634047Z",
     "iopub.status.idle": "2024-11-10T14:16:16.642505Z",
     "shell.execute_reply": "2024-11-10T14:16:16.641399Z"
    },
    "papermill": {
     "duration": 0.03084,
     "end_time": "2024-11-10T14:16:16.644828",
     "exception": false,
     "start_time": "2024-11-10T14:16:16.613988",
     "status": "completed"
    },
    "tags": []
   },
   "outputs": [],
   "source": [
    "def fen2image(fen):\n",
    "    # A blank image with only black background\n",
    "    board = np.zeros((8, 8), dtype=np.float32)\n",
    "\n",
    "    # Spliting the FEN string into rows\n",
    "    rows = fen.split('/')\n",
    "    \n",
    "    for i, row in enumerate(rows):\n",
    "        col = 0\n",
    "        for char in row:\n",
    "            if char.isdigit():\n",
    "                col += int(char) \n",
    "            else:\n",
    "                gray_value = piece_to_gray.get(char, 0.0)\n",
    "                #So I forgot to multiply by 255 by mistake and the thing is I observed not multiplying by 255 is giving much more better output\n",
    "                #I tweaked the input weights and accuracy improves\n",
    "                #As an image this thing makes 0 sense but somehow these features are getting well captured in the CNN \n",
    "                board[i, col] = gray_value  \n",
    "                col += 1\n",
    "\n",
    "    return board"
   ]
  },
  {
   "cell_type": "code",
   "execution_count": 11,
   "id": "51b9313b",
   "metadata": {
    "execution": {
     "iopub.execute_input": "2024-11-10T14:16:16.684121Z",
     "iopub.status.busy": "2024-11-10T14:16:16.683561Z",
     "iopub.status.idle": "2024-11-10T14:16:17.250326Z",
     "shell.execute_reply": "2024-11-10T14:16:17.249129Z"
    },
    "papermill": {
     "duration": 0.58951,
     "end_time": "2024-11-10T14:16:17.253061",
     "exception": false,
     "start_time": "2024-11-10T14:16:16.663551",
     "status": "completed"
    },
    "tags": []
   },
   "outputs": [],
   "source": [
    "\n",
    "\n",
    "#Converting FEN to Images\n",
    "for fen in fen_encoding:\n",
    "    images.append(fen2image(fen))"
   ]
  },
  {
   "cell_type": "markdown",
   "id": "40ae1e70",
   "metadata": {
    "papermill": {
     "duration": 0.018303,
     "end_time": "2024-11-10T14:16:17.290130",
     "exception": false,
     "start_time": "2024-11-10T14:16:17.271827",
     "status": "completed"
    },
    "tags": []
   },
   "source": [
    "CNN "
   ]
  },
  {
   "cell_type": "code",
   "execution_count": 12,
   "id": "cce04b78",
   "metadata": {
    "execution": {
     "iopub.execute_input": "2024-11-10T14:16:17.329052Z",
     "iopub.status.busy": "2024-11-10T14:16:17.328601Z",
     "iopub.status.idle": "2024-11-10T14:16:32.491150Z",
     "shell.execute_reply": "2024-11-10T14:16:32.489888Z"
    },
    "papermill": {
     "duration": 15.184806,
     "end_time": "2024-11-10T14:16:32.493443",
     "exception": false,
     "start_time": "2024-11-10T14:16:17.308637",
     "status": "completed"
    },
    "tags": []
   },
   "outputs": [
    {
     "name": "stderr",
     "output_type": "stream",
     "text": [
      "/opt/conda/lib/python3.10/site-packages/keras/src/layers/convolutional/base_conv.py:107: UserWarning: Do not pass an `input_shape`/`input_dim` argument to a layer. When using Sequential models, prefer using an `Input(shape)` object as the first layer in the model instead.\n",
      "  super().__init__(activity_regularizer=activity_regularizer, **kwargs)\n"
     ]
    },
    {
     "data": {
      "text/html": [
       "<pre style=\"white-space:pre;overflow-x:auto;line-height:normal;font-family:Menlo,'DejaVu Sans Mono',consolas,'Courier New',monospace\"><span style=\"font-weight: bold\">Model: \"sequential\"</span>\n",
       "</pre>\n"
      ],
      "text/plain": [
       "\u001b[1mModel: \"sequential\"\u001b[0m\n"
      ]
     },
     "metadata": {},
     "output_type": "display_data"
    },
    {
     "data": {
      "text/html": [
       "<pre style=\"white-space:pre;overflow-x:auto;line-height:normal;font-family:Menlo,'DejaVu Sans Mono',consolas,'Courier New',monospace\">┏━━━━━━━━━━━━━━━━━━━━━━━━━━━━━━━━━┳━━━━━━━━━━━━━━━━━━━━━━━━┳━━━━━━━━━━━━━━━┓\n",
       "┃<span style=\"font-weight: bold\"> Layer (type)                    </span>┃<span style=\"font-weight: bold\"> Output Shape           </span>┃<span style=\"font-weight: bold\">       Param # </span>┃\n",
       "┡━━━━━━━━━━━━━━━━━━━━━━━━━━━━━━━━━╇━━━━━━━━━━━━━━━━━━━━━━━━╇━━━━━━━━━━━━━━━┩\n",
       "│ conv2d (<span style=\"color: #0087ff; text-decoration-color: #0087ff\">Conv2D</span>)                 │ (<span style=\"color: #00d7ff; text-decoration-color: #00d7ff\">None</span>, <span style=\"color: #00af00; text-decoration-color: #00af00\">8</span>, <span style=\"color: #00af00; text-decoration-color: #00af00\">8</span>, <span style=\"color: #00af00; text-decoration-color: #00af00\">32</span>)       │            <span style=\"color: #00af00; text-decoration-color: #00af00\">64</span> │\n",
       "├─────────────────────────────────┼────────────────────────┼───────────────┤\n",
       "│ max_pooling2d (<span style=\"color: #0087ff; text-decoration-color: #0087ff\">MaxPooling2D</span>)    │ (<span style=\"color: #00d7ff; text-decoration-color: #00d7ff\">None</span>, <span style=\"color: #00af00; text-decoration-color: #00af00\">8</span>, <span style=\"color: #00af00; text-decoration-color: #00af00\">8</span>, <span style=\"color: #00af00; text-decoration-color: #00af00\">32</span>)       │             <span style=\"color: #00af00; text-decoration-color: #00af00\">0</span> │\n",
       "├─────────────────────────────────┼────────────────────────┼───────────────┤\n",
       "│ conv2d_1 (<span style=\"color: #0087ff; text-decoration-color: #0087ff\">Conv2D</span>)               │ (<span style=\"color: #00d7ff; text-decoration-color: #00d7ff\">None</span>, <span style=\"color: #00af00; text-decoration-color: #00af00\">8</span>, <span style=\"color: #00af00; text-decoration-color: #00af00\">8</span>, <span style=\"color: #00af00; text-decoration-color: #00af00\">64</span>)       │         <span style=\"color: #00af00; text-decoration-color: #00af00\">2,112</span> │\n",
       "├─────────────────────────────────┼────────────────────────┼───────────────┤\n",
       "│ max_pooling2d_1 (<span style=\"color: #0087ff; text-decoration-color: #0087ff\">MaxPooling2D</span>)  │ (<span style=\"color: #00d7ff; text-decoration-color: #00d7ff\">None</span>, <span style=\"color: #00af00; text-decoration-color: #00af00\">8</span>, <span style=\"color: #00af00; text-decoration-color: #00af00\">8</span>, <span style=\"color: #00af00; text-decoration-color: #00af00\">64</span>)       │             <span style=\"color: #00af00; text-decoration-color: #00af00\">0</span> │\n",
       "├─────────────────────────────────┼────────────────────────┼───────────────┤\n",
       "│ dropout (<span style=\"color: #0087ff; text-decoration-color: #0087ff\">Dropout</span>)               │ (<span style=\"color: #00d7ff; text-decoration-color: #00d7ff\">None</span>, <span style=\"color: #00af00; text-decoration-color: #00af00\">8</span>, <span style=\"color: #00af00; text-decoration-color: #00af00\">8</span>, <span style=\"color: #00af00; text-decoration-color: #00af00\">64</span>)       │             <span style=\"color: #00af00; text-decoration-color: #00af00\">0</span> │\n",
       "├─────────────────────────────────┼────────────────────────┼───────────────┤\n",
       "│ flatten (<span style=\"color: #0087ff; text-decoration-color: #0087ff\">Flatten</span>)               │ (<span style=\"color: #00d7ff; text-decoration-color: #00d7ff\">None</span>, <span style=\"color: #00af00; text-decoration-color: #00af00\">4096</span>)           │             <span style=\"color: #00af00; text-decoration-color: #00af00\">0</span> │\n",
       "├─────────────────────────────────┼────────────────────────┼───────────────┤\n",
       "│ dense (<span style=\"color: #0087ff; text-decoration-color: #0087ff\">Dense</span>)                   │ (<span style=\"color: #00d7ff; text-decoration-color: #00d7ff\">None</span>, <span style=\"color: #00af00; text-decoration-color: #00af00\">128</span>)            │       <span style=\"color: #00af00; text-decoration-color: #00af00\">524,416</span> │\n",
       "├─────────────────────────────────┼────────────────────────┼───────────────┤\n",
       "│ dense_1 (<span style=\"color: #0087ff; text-decoration-color: #0087ff\">Dense</span>)                 │ (<span style=\"color: #00d7ff; text-decoration-color: #00d7ff\">None</span>, <span style=\"color: #00af00; text-decoration-color: #00af00\">3</span>)              │           <span style=\"color: #00af00; text-decoration-color: #00af00\">387</span> │\n",
       "└─────────────────────────────────┴────────────────────────┴───────────────┘\n",
       "</pre>\n"
      ],
      "text/plain": [
       "┏━━━━━━━━━━━━━━━━━━━━━━━━━━━━━━━━━┳━━━━━━━━━━━━━━━━━━━━━━━━┳━━━━━━━━━━━━━━━┓\n",
       "┃\u001b[1m \u001b[0m\u001b[1mLayer (type)                   \u001b[0m\u001b[1m \u001b[0m┃\u001b[1m \u001b[0m\u001b[1mOutput Shape          \u001b[0m\u001b[1m \u001b[0m┃\u001b[1m \u001b[0m\u001b[1m      Param #\u001b[0m\u001b[1m \u001b[0m┃\n",
       "┡━━━━━━━━━━━━━━━━━━━━━━━━━━━━━━━━━╇━━━━━━━━━━━━━━━━━━━━━━━━╇━━━━━━━━━━━━━━━┩\n",
       "│ conv2d (\u001b[38;5;33mConv2D\u001b[0m)                 │ (\u001b[38;5;45mNone\u001b[0m, \u001b[38;5;34m8\u001b[0m, \u001b[38;5;34m8\u001b[0m, \u001b[38;5;34m32\u001b[0m)       │            \u001b[38;5;34m64\u001b[0m │\n",
       "├─────────────────────────────────┼────────────────────────┼───────────────┤\n",
       "│ max_pooling2d (\u001b[38;5;33mMaxPooling2D\u001b[0m)    │ (\u001b[38;5;45mNone\u001b[0m, \u001b[38;5;34m8\u001b[0m, \u001b[38;5;34m8\u001b[0m, \u001b[38;5;34m32\u001b[0m)       │             \u001b[38;5;34m0\u001b[0m │\n",
       "├─────────────────────────────────┼────────────────────────┼───────────────┤\n",
       "│ conv2d_1 (\u001b[38;5;33mConv2D\u001b[0m)               │ (\u001b[38;5;45mNone\u001b[0m, \u001b[38;5;34m8\u001b[0m, \u001b[38;5;34m8\u001b[0m, \u001b[38;5;34m64\u001b[0m)       │         \u001b[38;5;34m2,112\u001b[0m │\n",
       "├─────────────────────────────────┼────────────────────────┼───────────────┤\n",
       "│ max_pooling2d_1 (\u001b[38;5;33mMaxPooling2D\u001b[0m)  │ (\u001b[38;5;45mNone\u001b[0m, \u001b[38;5;34m8\u001b[0m, \u001b[38;5;34m8\u001b[0m, \u001b[38;5;34m64\u001b[0m)       │             \u001b[38;5;34m0\u001b[0m │\n",
       "├─────────────────────────────────┼────────────────────────┼───────────────┤\n",
       "│ dropout (\u001b[38;5;33mDropout\u001b[0m)               │ (\u001b[38;5;45mNone\u001b[0m, \u001b[38;5;34m8\u001b[0m, \u001b[38;5;34m8\u001b[0m, \u001b[38;5;34m64\u001b[0m)       │             \u001b[38;5;34m0\u001b[0m │\n",
       "├─────────────────────────────────┼────────────────────────┼───────────────┤\n",
       "│ flatten (\u001b[38;5;33mFlatten\u001b[0m)               │ (\u001b[38;5;45mNone\u001b[0m, \u001b[38;5;34m4096\u001b[0m)           │             \u001b[38;5;34m0\u001b[0m │\n",
       "├─────────────────────────────────┼────────────────────────┼───────────────┤\n",
       "│ dense (\u001b[38;5;33mDense\u001b[0m)                   │ (\u001b[38;5;45mNone\u001b[0m, \u001b[38;5;34m128\u001b[0m)            │       \u001b[38;5;34m524,416\u001b[0m │\n",
       "├─────────────────────────────────┼────────────────────────┼───────────────┤\n",
       "│ dense_1 (\u001b[38;5;33mDense\u001b[0m)                 │ (\u001b[38;5;45mNone\u001b[0m, \u001b[38;5;34m3\u001b[0m)              │           \u001b[38;5;34m387\u001b[0m │\n",
       "└─────────────────────────────────┴────────────────────────┴───────────────┘\n"
      ]
     },
     "metadata": {},
     "output_type": "display_data"
    },
    {
     "data": {
      "text/html": [
       "<pre style=\"white-space:pre;overflow-x:auto;line-height:normal;font-family:Menlo,'DejaVu Sans Mono',consolas,'Courier New',monospace\"><span style=\"font-weight: bold\"> Total params: </span><span style=\"color: #00af00; text-decoration-color: #00af00\">526,979</span> (2.01 MB)\n",
       "</pre>\n"
      ],
      "text/plain": [
       "\u001b[1m Total params: \u001b[0m\u001b[38;5;34m526,979\u001b[0m (2.01 MB)\n"
      ]
     },
     "metadata": {},
     "output_type": "display_data"
    },
    {
     "data": {
      "text/html": [
       "<pre style=\"white-space:pre;overflow-x:auto;line-height:normal;font-family:Menlo,'DejaVu Sans Mono',consolas,'Courier New',monospace\"><span style=\"font-weight: bold\"> Trainable params: </span><span style=\"color: #00af00; text-decoration-color: #00af00\">526,979</span> (2.01 MB)\n",
       "</pre>\n"
      ],
      "text/plain": [
       "\u001b[1m Trainable params: \u001b[0m\u001b[38;5;34m526,979\u001b[0m (2.01 MB)\n"
      ]
     },
     "metadata": {},
     "output_type": "display_data"
    },
    {
     "data": {
      "text/html": [
       "<pre style=\"white-space:pre;overflow-x:auto;line-height:normal;font-family:Menlo,'DejaVu Sans Mono',consolas,'Courier New',monospace\"><span style=\"font-weight: bold\"> Non-trainable params: </span><span style=\"color: #00af00; text-decoration-color: #00af00\">0</span> (0.00 B)\n",
       "</pre>\n"
      ],
      "text/plain": [
       "\u001b[1m Non-trainable params: \u001b[0m\u001b[38;5;34m0\u001b[0m (0.00 B)\n"
      ]
     },
     "metadata": {},
     "output_type": "display_data"
    }
   ],
   "source": [
    "#Here's a reallly complex CNN Architecture\n",
    "\n",
    "import tensorflow as tf\n",
    "from tensorflow.keras.models import Sequential\n",
    "from tensorflow.keras.layers import Conv2D, MaxPooling2D, Flatten, Dense, Dropout,BatchNormalization\n",
    "\n",
    "model = Sequential([\n",
    "    Conv2D(32, (1, 1), activation='relu', input_shape=(8, 8, 1)),\n",
    "    MaxPooling2D(pool_size=(1, 1)),\n",
    "\n",
    "    Conv2D(64, (1, 1), activation='relu'),\n",
    "    MaxPooling2D(pool_size=(1, 1)),\n",
    "    Dropout(0.25),\n",
    "\n",
    "    Flatten(),\n",
    "    Dense(128, activation='relu'),\n",
    "    Dense(3, activation='softmax')\n",
    "])\n",
    "\n",
    "model.compile(optimizer='adam', loss='categorical_crossentropy', metrics=['accuracy'])\n",
    "model.summary()"
   ]
  },
  {
   "cell_type": "code",
   "execution_count": 13,
   "id": "ed94177e",
   "metadata": {
    "execution": {
     "iopub.execute_input": "2024-11-10T14:16:32.536428Z",
     "iopub.status.busy": "2024-11-10T14:16:32.535722Z",
     "iopub.status.idle": "2024-11-10T14:16:33.864169Z",
     "shell.execute_reply": "2024-11-10T14:16:33.863000Z"
    },
    "papermill": {
     "duration": 1.352846,
     "end_time": "2024-11-10T14:16:33.867300",
     "exception": false,
     "start_time": "2024-11-10T14:16:32.514454",
     "status": "completed"
    },
    "tags": []
   },
   "outputs": [],
   "source": [
    "import numpy as np\n",
    "from sklearn.model_selection import train_test_split\n",
    "from tensorflow.keras.utils import to_categorical\n",
    "\n",
    "X = np.array(images)\n",
    "y = np.array(labels)\n",
    "#prepares one hot encoding as in the (Size of list x 3) matrix with 1 wherever it is true\n",
    "y = to_categorical(y, num_classes=3) \n",
    "\n",
    "X_train, X_val, y_train, y_val = train_test_split(X, y, test_size=0.2, random_state=92)"
   ]
  },
  {
   "cell_type": "code",
   "execution_count": 14,
   "id": "c527885e",
   "metadata": {
    "execution": {
     "iopub.execute_input": "2024-11-10T14:16:33.909767Z",
     "iopub.status.busy": "2024-11-10T14:16:33.909002Z",
     "iopub.status.idle": "2024-11-10T14:18:32.904277Z",
     "shell.execute_reply": "2024-11-10T14:18:32.902929Z"
    },
    "papermill": {
     "duration": 119.019634,
     "end_time": "2024-11-10T14:18:32.907018",
     "exception": false,
     "start_time": "2024-11-10T14:16:33.887384",
     "status": "completed"
    },
    "tags": []
   },
   "outputs": [
    {
     "name": "stdout",
     "output_type": "stream",
     "text": [
      "Epoch 1/20\n",
      "\u001b[1m537/537\u001b[0m \u001b[32m━━━━━━━━━━━━━━━━━━━━\u001b[0m\u001b[37m\u001b[0m \u001b[1m8s\u001b[0m 12ms/step - accuracy: 0.4865 - loss: 1.0223 - val_accuracy: 0.5811 - val_loss: 0.9130\n",
      "Epoch 2/20\n",
      "\u001b[1m537/537\u001b[0m \u001b[32m━━━━━━━━━━━━━━━━━━━━\u001b[0m\u001b[37m\u001b[0m \u001b[1m6s\u001b[0m 11ms/step - accuracy: 0.5723 - loss: 0.9183 - val_accuracy: 0.5445 - val_loss: 0.9418\n",
      "Epoch 3/20\n",
      "\u001b[1m537/537\u001b[0m \u001b[32m━━━━━━━━━━━━━━━━━━━━\u001b[0m\u001b[37m\u001b[0m \u001b[1m6s\u001b[0m 11ms/step - accuracy: 0.6006 - loss: 0.8708 - val_accuracy: 0.5827 - val_loss: 0.8912\n",
      "Epoch 4/20\n",
      "\u001b[1m537/537\u001b[0m \u001b[32m━━━━━━━━━━━━━━━━━━━━\u001b[0m\u001b[37m\u001b[0m \u001b[1m6s\u001b[0m 11ms/step - accuracy: 0.6125 - loss: 0.8504 - val_accuracy: 0.5997 - val_loss: 0.8735\n",
      "Epoch 5/20\n",
      "\u001b[1m537/537\u001b[0m \u001b[32m━━━━━━━━━━━━━━━━━━━━\u001b[0m\u001b[37m\u001b[0m \u001b[1m6s\u001b[0m 11ms/step - accuracy: 0.6213 - loss: 0.8316 - val_accuracy: 0.6200 - val_loss: 0.8390\n",
      "Epoch 6/20\n",
      "\u001b[1m537/537\u001b[0m \u001b[32m━━━━━━━━━━━━━━━━━━━━\u001b[0m\u001b[37m\u001b[0m \u001b[1m6s\u001b[0m 11ms/step - accuracy: 0.6278 - loss: 0.8119 - val_accuracy: 0.6188 - val_loss: 0.8379\n",
      "Epoch 7/20\n",
      "\u001b[1m537/537\u001b[0m \u001b[32m━━━━━━━━━━━━━━━━━━━━\u001b[0m\u001b[37m\u001b[0m \u001b[1m6s\u001b[0m 11ms/step - accuracy: 0.6400 - loss: 0.7910 - val_accuracy: 0.6193 - val_loss: 0.8400\n",
      "Epoch 8/20\n",
      "\u001b[1m537/537\u001b[0m \u001b[32m━━━━━━━━━━━━━━━━━━━━\u001b[0m\u001b[37m\u001b[0m \u001b[1m6s\u001b[0m 11ms/step - accuracy: 0.6428 - loss: 0.7768 - val_accuracy: 0.6135 - val_loss: 0.8549\n",
      "Epoch 9/20\n",
      "\u001b[1m537/537\u001b[0m \u001b[32m━━━━━━━━━━━━━━━━━━━━\u001b[0m\u001b[37m\u001b[0m \u001b[1m6s\u001b[0m 11ms/step - accuracy: 0.6632 - loss: 0.7537 - val_accuracy: 0.6037 - val_loss: 0.8689\n",
      "Epoch 10/20\n",
      "\u001b[1m537/537\u001b[0m \u001b[32m━━━━━━━━━━━━━━━━━━━━\u001b[0m\u001b[37m\u001b[0m \u001b[1m6s\u001b[0m 11ms/step - accuracy: 0.6754 - loss: 0.7318 - val_accuracy: 0.6030 - val_loss: 0.8807\n",
      "Epoch 11/20\n",
      "\u001b[1m537/537\u001b[0m \u001b[32m━━━━━━━━━━━━━━━━━━━━\u001b[0m\u001b[37m\u001b[0m \u001b[1m6s\u001b[0m 11ms/step - accuracy: 0.6874 - loss: 0.7076 - val_accuracy: 0.5972 - val_loss: 0.8855\n",
      "Epoch 12/20\n",
      "\u001b[1m537/537\u001b[0m \u001b[32m━━━━━━━━━━━━━━━━━━━━\u001b[0m\u001b[37m\u001b[0m \u001b[1m6s\u001b[0m 11ms/step - accuracy: 0.6971 - loss: 0.6909 - val_accuracy: 0.5892 - val_loss: 0.9132\n",
      "Epoch 13/20\n",
      "\u001b[1m537/537\u001b[0m \u001b[32m━━━━━━━━━━━━━━━━━━━━\u001b[0m\u001b[37m\u001b[0m \u001b[1m6s\u001b[0m 11ms/step - accuracy: 0.7100 - loss: 0.6590 - val_accuracy: 0.5920 - val_loss: 0.9284\n",
      "Epoch 14/20\n",
      "\u001b[1m537/537\u001b[0m \u001b[32m━━━━━━━━━━━━━━━━━━━━\u001b[0m\u001b[37m\u001b[0m \u001b[1m6s\u001b[0m 11ms/step - accuracy: 0.7152 - loss: 0.6533 - val_accuracy: 0.5895 - val_loss: 0.9433\n",
      "Epoch 15/20\n",
      "\u001b[1m537/537\u001b[0m \u001b[32m━━━━━━━━━━━━━━━━━━━━\u001b[0m\u001b[37m\u001b[0m \u001b[1m6s\u001b[0m 11ms/step - accuracy: 0.7317 - loss: 0.6236 - val_accuracy: 0.5906 - val_loss: 0.9558\n",
      "Epoch 16/20\n",
      "\u001b[1m537/537\u001b[0m \u001b[32m━━━━━━━━━━━━━━━━━━━━\u001b[0m\u001b[37m\u001b[0m \u001b[1m6s\u001b[0m 11ms/step - accuracy: 0.7386 - loss: 0.6028 - val_accuracy: 0.5841 - val_loss: 0.9843\n",
      "Epoch 17/20\n",
      "\u001b[1m537/537\u001b[0m \u001b[32m━━━━━━━━━━━━━━━━━━━━\u001b[0m\u001b[37m\u001b[0m \u001b[1m6s\u001b[0m 11ms/step - accuracy: 0.7519 - loss: 0.5867 - val_accuracy: 0.5755 - val_loss: 1.0046\n",
      "Epoch 18/20\n",
      "\u001b[1m537/537\u001b[0m \u001b[32m━━━━━━━━━━━━━━━━━━━━\u001b[0m\u001b[37m\u001b[0m \u001b[1m6s\u001b[0m 11ms/step - accuracy: 0.7637 - loss: 0.5690 - val_accuracy: 0.5808 - val_loss: 1.0195\n",
      "Epoch 19/20\n",
      "\u001b[1m537/537\u001b[0m \u001b[32m━━━━━━━━━━━━━━━━━━━━\u001b[0m\u001b[37m\u001b[0m \u001b[1m6s\u001b[0m 11ms/step - accuracy: 0.7644 - loss: 0.5524 - val_accuracy: 0.5641 - val_loss: 1.0549\n",
      "Epoch 20/20\n",
      "\u001b[1m537/537\u001b[0m \u001b[32m━━━━━━━━━━━━━━━━━━━━\u001b[0m\u001b[37m\u001b[0m \u001b[1m6s\u001b[0m 11ms/step - accuracy: 0.7743 - loss: 0.5357 - val_accuracy: 0.5739 - val_loss: 1.0760\n"
     ]
    }
   ],
   "source": [
    "epochs = 20\n",
    "batch_size = 32\n",
    "\n",
    "history = model.fit(\n",
    "    X_train, y_train,\n",
    "    batch_size=batch_size,\n",
    "    epochs=epochs,\n",
    "    validation_data=(X_val, y_val)\n",
    ")"
   ]
  },
  {
   "cell_type": "markdown",
   "id": "174255a0",
   "metadata": {
    "papermill": {
     "duration": 0.270013,
     "end_time": "2024-11-10T14:18:33.387395",
     "exception": false,
     "start_time": "2024-11-10T14:18:33.117382",
     "status": "completed"
    },
    "tags": []
   },
   "source": [
    "Testing it on validation dataset"
   ]
  },
  {
   "cell_type": "code",
   "execution_count": 15,
   "id": "b659ffdf",
   "metadata": {
    "execution": {
     "iopub.execute_input": "2024-11-10T14:18:33.807509Z",
     "iopub.status.busy": "2024-11-10T14:18:33.807062Z",
     "iopub.status.idle": "2024-11-10T14:18:34.279634Z",
     "shell.execute_reply": "2024-11-10T14:18:34.278573Z"
    },
    "papermill": {
     "duration": 0.685973,
     "end_time": "2024-11-10T14:18:34.282225",
     "exception": false,
     "start_time": "2024-11-10T14:18:33.596252",
     "status": "completed"
    },
    "tags": []
   },
   "outputs": [
    {
     "name": "stdout",
     "output_type": "stream",
     "text": [
      "\u001b[1m135/135\u001b[0m \u001b[32m━━━━━━━━━━━━━━━━━━━━\u001b[0m\u001b[37m\u001b[0m \u001b[1m0s\u001b[0m 3ms/step - accuracy: 0.5696 - loss: 1.0715\n",
      "Validation Accuracy: 57.39%\n"
     ]
    }
   ],
   "source": [
    "validation_loss, validation_accuracy = model.evaluate(X_val, y_val)\n",
    "print(f'Validation Accuracy: {validation_accuracy * 100:.2f}%')"
   ]
  },
  {
   "cell_type": "markdown",
   "id": "502d10e8",
   "metadata": {
    "papermill": {
     "duration": 0.210119,
     "end_time": "2024-11-10T14:18:34.703859",
     "exception": false,
     "start_time": "2024-11-10T14:18:34.493740",
     "status": "completed"
    },
    "tags": []
   },
   "source": [
    "Processing The Testing Data"
   ]
  },
  {
   "cell_type": "code",
   "execution_count": 16,
   "id": "8cbc5335",
   "metadata": {
    "execution": {
     "iopub.execute_input": "2024-11-10T14:18:35.125387Z",
     "iopub.status.busy": "2024-11-10T14:18:35.124923Z",
     "iopub.status.idle": "2024-11-10T14:18:35.153496Z",
     "shell.execute_reply": "2024-11-10T14:18:35.152310Z"
    },
    "papermill": {
     "duration": 0.241758,
     "end_time": "2024-11-10T14:18:35.156055",
     "exception": false,
     "start_time": "2024-11-10T14:18:34.914297",
     "status": "completed"
    },
    "tags": []
   },
   "outputs": [
    {
     "data": {
      "text/html": [
       "<div>\n",
       "<style scoped>\n",
       "    .dataframe tbody tr th:only-of-type {\n",
       "        vertical-align: middle;\n",
       "    }\n",
       "\n",
       "    .dataframe tbody tr th {\n",
       "        vertical-align: top;\n",
       "    }\n",
       "\n",
       "    .dataframe thead th {\n",
       "        text-align: right;\n",
       "    }\n",
       "</style>\n",
       "<table border=\"1\" class=\"dataframe\">\n",
       "  <thead>\n",
       "    <tr style=\"text-align: right;\">\n",
       "      <th></th>\n",
       "      <th>image_id</th>\n",
       "      <th>evaluation</th>\n",
       "    </tr>\n",
       "  </thead>\n",
       "  <tbody>\n",
       "    <tr>\n",
       "      <th>0</th>\n",
       "      <td>26065374</td>\n",
       "      <td>NaN</td>\n",
       "    </tr>\n",
       "    <tr>\n",
       "      <th>1</th>\n",
       "      <td>32481096</td>\n",
       "      <td>NaN</td>\n",
       "    </tr>\n",
       "    <tr>\n",
       "      <th>2</th>\n",
       "      <td>36997677</td>\n",
       "      <td>NaN</td>\n",
       "    </tr>\n",
       "    <tr>\n",
       "      <th>3</th>\n",
       "      <td>34417938</td>\n",
       "      <td>NaN</td>\n",
       "    </tr>\n",
       "    <tr>\n",
       "      <th>4</th>\n",
       "      <td>28905181</td>\n",
       "      <td>NaN</td>\n",
       "    </tr>\n",
       "  </tbody>\n",
       "</table>\n",
       "</div>"
      ],
      "text/plain": [
       "   image_id  evaluation\n",
       "0  26065374         NaN\n",
       "1  32481096         NaN\n",
       "2  36997677         NaN\n",
       "3  34417938         NaN\n",
       "4  28905181         NaN"
      ]
     },
     "execution_count": 16,
     "metadata": {},
     "output_type": "execute_result"
    }
   ],
   "source": [
    "df_test = pd.read_csv('/kaggle/input/the-streets-chess-showdown-white-vs-black/sample_submission.csv')\n",
    "df_test.head()"
   ]
  },
  {
   "cell_type": "code",
   "execution_count": 17,
   "id": "9a9aec1b",
   "metadata": {
    "execution": {
     "iopub.execute_input": "2024-11-10T14:18:35.579235Z",
     "iopub.status.busy": "2024-11-10T14:18:35.578782Z",
     "iopub.status.idle": "2024-11-10T14:18:35.583967Z",
     "shell.execute_reply": "2024-11-10T14:18:35.582772Z"
    },
    "papermill": {
     "duration": 0.21825,
     "end_time": "2024-11-10T14:18:35.586385",
     "exception": false,
     "start_time": "2024-11-10T14:18:35.368135",
     "status": "completed"
    },
    "tags": []
   },
   "outputs": [],
   "source": [
    "test_encodings = []"
   ]
  },
  {
   "cell_type": "code",
   "execution_count": 18,
   "id": "e70c4a11",
   "metadata": {
    "execution": {
     "iopub.execute_input": "2024-11-10T14:18:36.012560Z",
     "iopub.status.busy": "2024-11-10T14:18:36.012119Z",
     "iopub.status.idle": "2024-11-10T14:18:36.018821Z",
     "shell.execute_reply": "2024-11-10T14:18:36.017752Z"
    },
    "papermill": {
     "duration": 0.222052,
     "end_time": "2024-11-10T14:18:36.021471",
     "exception": false,
     "start_time": "2024-11-10T14:18:35.799419",
     "status": "completed"
    },
    "tags": []
   },
   "outputs": [],
   "source": [
    "# for ind in df_test.index:\n",
    "        \n",
    "#     img1 = cv2.imread('/kaggle/input/the-streets-chess-showdown-white-vs-black/test/'+str(df_test.loc[ind,'image_id'])+'.png')\n",
    "#     board = \"\"\n",
    "\n",
    "#     ##ITERATING OVER THE IMAGE\n",
    "#     for i in range(0,360,45):\n",
    "#         fen = \"\"\n",
    "#         count = 0\n",
    "#         for j in range(0,360,45):\n",
    "\n",
    "#             ##Cropping the image (45x45)\n",
    "#             img = img1[i:i+44,j:j+44]\n",
    "#             img = cv2.resize(img,(45,45))\n",
    "#             clas = None\n",
    "#             score = 0\n",
    "\n",
    "#             #compares similarity score with all other pieces available\n",
    "#             for k in os.listdir('/kaggle/input/pieces'):\n",
    "#                 imgcheck = cv2.imread('/kaggle/input/pieces/'+k)\n",
    "#                 imgcheck = cv2.resize(imgcheck,(45,45))\n",
    "#                 scoreNow = compute_ssim(img,imgcheck)\n",
    "#                 if scoreNow>score:\n",
    "#                     score = scoreNow\n",
    "#                     clas = k[0]\n",
    "\n",
    "#             ##ADDING THE DETECTED PIECE\n",
    "#             if clas != '1' and count==0:\n",
    "#                 fen+=clas\n",
    "\n",
    "#             elif clas != '1' and count!=0:\n",
    "#                 fen+=str(count)\n",
    "#                 fen+=clas\n",
    "#                 count = 0\n",
    "#             else:\n",
    "#                  count+=1\n",
    "#         if count!=0:\n",
    "#             fen+=str(count)\n",
    "#         fen+='/'\n",
    "\n",
    "#         board+=fen\n",
    "#     test_encodings.append(board)\n"
   ]
  },
  {
   "cell_type": "code",
   "execution_count": 19,
   "id": "c50b1cba",
   "metadata": {
    "execution": {
     "iopub.execute_input": "2024-11-10T14:18:36.453907Z",
     "iopub.status.busy": "2024-11-10T14:18:36.453430Z",
     "iopub.status.idle": "2024-11-10T14:18:36.458796Z",
     "shell.execute_reply": "2024-11-10T14:18:36.457569Z"
    },
    "papermill": {
     "duration": 0.223017,
     "end_time": "2024-11-10T14:18:36.461454",
     "exception": false,
     "start_time": "2024-11-10T14:18:36.238437",
     "status": "completed"
    },
    "tags": []
   },
   "outputs": [],
   "source": [
    "# import pickle\n",
    "# with open('/kaggle/working/test_encodinga_6780_to_end.pkl', 'wb') as f: \n",
    "#     pickle.dump(test_encodings, f)"
   ]
  },
  {
   "cell_type": "markdown",
   "id": "d4b4df4f",
   "metadata": {
    "papermill": {
     "duration": 0.272782,
     "end_time": "2024-11-10T14:18:36.945474",
     "exception": false,
     "start_time": "2024-11-10T14:18:36.672692",
     "status": "completed"
    },
    "tags": []
   },
   "source": [
    "Converting FEN into Grayscale Image Map"
   ]
  },
  {
   "cell_type": "code",
   "execution_count": 20,
   "id": "79a30035",
   "metadata": {
    "execution": {
     "iopub.execute_input": "2024-11-10T14:18:37.369817Z",
     "iopub.status.busy": "2024-11-10T14:18:37.368723Z",
     "iopub.status.idle": "2024-11-10T14:18:37.391095Z",
     "shell.execute_reply": "2024-11-10T14:18:37.389832Z"
    },
    "papermill": {
     "duration": 0.239057,
     "end_time": "2024-11-10T14:18:37.393811",
     "exception": false,
     "start_time": "2024-11-10T14:18:37.154754",
     "status": "completed"
    },
    "tags": []
   },
   "outputs": [],
   "source": [
    "image_id = df_test['image_id'].to_list()\n",
    "\n",
    "with open(\"/kaggle/input/encodi/test_encodings.pkl\",\"rb\") as f:\n",
    "    image_encoding = pickle.load(f)"
   ]
  },
  {
   "cell_type": "code",
   "execution_count": 21,
   "id": "a7ba1129",
   "metadata": {
    "execution": {
     "iopub.execute_input": "2024-11-10T14:18:37.817011Z",
     "iopub.status.busy": "2024-11-10T14:18:37.816223Z",
     "iopub.status.idle": "2024-11-10T14:18:38.044751Z",
     "shell.execute_reply": "2024-11-10T14:18:38.043489Z"
    },
    "papermill": {
     "duration": 0.444355,
     "end_time": "2024-11-10T14:18:38.047670",
     "exception": false,
     "start_time": "2024-11-10T14:18:37.603315",
     "status": "completed"
    },
    "tags": []
   },
   "outputs": [],
   "source": [
    "image_array = [fen2image(image) for image in image_encoding]"
   ]
  },
  {
   "cell_type": "markdown",
   "id": "b8d35431",
   "metadata": {
    "papermill": {
     "duration": 0.211493,
     "end_time": "2024-11-10T14:18:38.472278",
     "exception": false,
     "start_time": "2024-11-10T14:18:38.260785",
     "status": "completed"
    },
    "tags": []
   },
   "source": [
    "Prediction Code"
   ]
  },
  {
   "cell_type": "code",
   "execution_count": 22,
   "id": "929c03b1",
   "metadata": {
    "execution": {
     "iopub.execute_input": "2024-11-10T14:18:38.896264Z",
     "iopub.status.busy": "2024-11-10T14:18:38.895822Z",
     "iopub.status.idle": "2024-11-10T14:18:40.008563Z",
     "shell.execute_reply": "2024-11-10T14:18:40.007436Z"
    },
    "papermill": {
     "duration": 1.328011,
     "end_time": "2024-11-10T14:18:40.011449",
     "exception": false,
     "start_time": "2024-11-10T14:18:38.683438",
     "status": "completed"
    },
    "tags": []
   },
   "outputs": [
    {
     "name": "stdout",
     "output_type": "stream",
     "text": [
      "\u001b[1m267/267\u001b[0m \u001b[32m━━━━━━━━━━━━━━━━━━━━\u001b[0m\u001b[37m\u001b[0m \u001b[1m1s\u001b[0m 3ms/step\n"
     ]
    }
   ],
   "source": [
    "# image_array = np.array(image_array)\n",
    "# if image_array.shape != (8,8,1):\n",
    "#     image_array = np.expand_dims(image_array, axis=-1)\n",
    "# for image in image_array:\n",
    "#     prediction = model.predict(image)\n",
    "image_array = np.array(image_array)\n",
    "processed_images = []\n",
    "for image in image_array:\n",
    "    if image.shape != (8, 8, 1):\n",
    "        image = np.expand_dims(image, axis=-1)  \n",
    "    processed_images.append(image)\n",
    "processed_images = np.stack(processed_images, axis=0)\n",
    "prediction = model.predict(processed_images)"
   ]
  },
  {
   "cell_type": "code",
   "execution_count": 23,
   "id": "d2b48f74",
   "metadata": {
    "execution": {
     "iopub.execute_input": "2024-11-10T14:18:40.439536Z",
     "iopub.status.busy": "2024-11-10T14:18:40.438466Z",
     "iopub.status.idle": "2024-11-10T14:18:40.446165Z",
     "shell.execute_reply": "2024-11-10T14:18:40.445014Z"
    },
    "papermill": {
     "duration": 0.223103,
     "end_time": "2024-11-10T14:18:40.448503",
     "exception": false,
     "start_time": "2024-11-10T14:18:40.225400",
     "status": "completed"
    },
    "tags": []
   },
   "outputs": [
    {
     "data": {
      "text/plain": [
       "(8540, 3)"
      ]
     },
     "execution_count": 23,
     "metadata": {},
     "output_type": "execute_result"
    }
   ],
   "source": [
    "prediction.shape"
   ]
  },
  {
   "cell_type": "code",
   "execution_count": 24,
   "id": "e82da8eb",
   "metadata": {
    "execution": {
     "iopub.execute_input": "2024-11-10T14:18:40.897831Z",
     "iopub.status.busy": "2024-11-10T14:18:40.897397Z",
     "iopub.status.idle": "2024-11-10T14:18:40.904661Z",
     "shell.execute_reply": "2024-11-10T14:18:40.903562Z"
    },
    "papermill": {
     "duration": 0.2429,
     "end_time": "2024-11-10T14:18:40.907111",
     "exception": false,
     "start_time": "2024-11-10T14:18:40.664211",
     "status": "completed"
    },
    "tags": []
   },
   "outputs": [
    {
     "data": {
      "text/plain": [
       "(8540, 8, 8)"
      ]
     },
     "execution_count": 24,
     "metadata": {},
     "output_type": "execute_result"
    }
   ],
   "source": [
    "image_array.shape"
   ]
  },
  {
   "cell_type": "code",
   "execution_count": 25,
   "id": "31e5eb94",
   "metadata": {
    "execution": {
     "iopub.execute_input": "2024-11-10T14:18:41.337389Z",
     "iopub.status.busy": "2024-11-10T14:18:41.336978Z",
     "iopub.status.idle": "2024-11-10T14:18:41.347071Z",
     "shell.execute_reply": "2024-11-10T14:18:41.345912Z"
    },
    "papermill": {
     "duration": 0.229617,
     "end_time": "2024-11-10T14:18:41.349558",
     "exception": false,
     "start_time": "2024-11-10T14:18:41.119941",
     "status": "completed"
    },
    "tags": []
   },
   "outputs": [],
   "source": [
    "prediction = np.argmax(prediction, axis=1)\n",
    "class_labels = {0: 'black', 1: 'equal', 2: 'white'}\n",
    "predicted_labels = [class_labels[pred] for pred in prediction]"
   ]
  },
  {
   "cell_type": "code",
   "execution_count": 26,
   "id": "d763cb77",
   "metadata": {
    "execution": {
     "iopub.execute_input": "2024-11-10T14:18:41.780213Z",
     "iopub.status.busy": "2024-11-10T14:18:41.779059Z",
     "iopub.status.idle": "2024-11-10T14:18:41.786310Z",
     "shell.execute_reply": "2024-11-10T14:18:41.785202Z"
    },
    "papermill": {
     "duration": 0.225463,
     "end_time": "2024-11-10T14:18:41.788744",
     "exception": false,
     "start_time": "2024-11-10T14:18:41.563281",
     "status": "completed"
    },
    "tags": []
   },
   "outputs": [],
   "source": [
    "df_ans = pd.DataFrame(columns=['image_id', 'evaluation'])"
   ]
  },
  {
   "cell_type": "code",
   "execution_count": 27,
   "id": "1ddd04df",
   "metadata": {
    "execution": {
     "iopub.execute_input": "2024-11-10T14:18:42.217972Z",
     "iopub.status.busy": "2024-11-10T14:18:42.217323Z",
     "iopub.status.idle": "2024-11-10T14:18:47.611397Z",
     "shell.execute_reply": "2024-11-10T14:18:47.610346Z"
    },
    "papermill": {
     "duration": 5.612764,
     "end_time": "2024-11-10T14:18:47.614119",
     "exception": false,
     "start_time": "2024-11-10T14:18:42.001355",
     "status": "completed"
    },
    "tags": []
   },
   "outputs": [],
   "source": [
    "for i in range(len(image_id)):\n",
    "    df_ans.loc[i,'image_id'] = image_id[i]\n",
    "    df_ans.loc[i,'evaluation'] = predicted_labels[i]"
   ]
  },
  {
   "cell_type": "code",
   "execution_count": 28,
   "id": "6f2bd4f9",
   "metadata": {
    "execution": {
     "iopub.execute_input": "2024-11-10T14:18:48.095608Z",
     "iopub.status.busy": "2024-11-10T14:18:48.094515Z",
     "iopub.status.idle": "2024-11-10T14:18:48.121057Z",
     "shell.execute_reply": "2024-11-10T14:18:48.119754Z"
    },
    "papermill": {
     "duration": 0.243466,
     "end_time": "2024-11-10T14:18:48.123511",
     "exception": false,
     "start_time": "2024-11-10T14:18:47.880045",
     "status": "completed"
    },
    "tags": []
   },
   "outputs": [
    {
     "name": "stdout",
     "output_type": "stream",
     "text": [
      "image_id      8539\n",
      "evaluation       3\n",
      "dtype: int64\n",
      "Duplicate IDs:\n",
      "      image_id evaluation\n",
      "2495  18078547      black\n",
      "Unique values after removing duplicates:\n",
      "image_id      8539\n",
      "evaluation       3\n",
      "dtype: int64\n"
     ]
    }
   ],
   "source": [
    "print(df_ans.nunique())\n",
    "\n",
    "duplicates = df_ans[df_ans['image_id'].duplicated()]\n",
    "\n",
    "print(\"Duplicate IDs:\")\n",
    "print(duplicates)\n",
    "df_ans = df_ans.drop_duplicates(subset=['image_id'], keep='first')\n",
    "\n",
    "print(\"Unique values after removing duplicates:\")\n",
    "print(df_ans.nunique())\n"
   ]
  },
  {
   "cell_type": "code",
   "execution_count": 29,
   "id": "62e6b1bb",
   "metadata": {
    "execution": {
     "iopub.execute_input": "2024-11-10T14:18:48.552421Z",
     "iopub.status.busy": "2024-11-10T14:18:48.551473Z",
     "iopub.status.idle": "2024-11-10T14:18:48.557379Z",
     "shell.execute_reply": "2024-11-10T14:18:48.556317Z"
    },
    "papermill": {
     "duration": 0.22242,
     "end_time": "2024-11-10T14:18:48.559767",
     "exception": false,
     "start_time": "2024-11-10T14:18:48.337347",
     "status": "completed"
    },
    "tags": []
   },
   "outputs": [],
   "source": [
    "df_ans.rename(columns={'image_id': 'id'}, inplace=True)\n"
   ]
  },
  {
   "cell_type": "code",
   "execution_count": 30,
   "id": "fd4b0c71",
   "metadata": {
    "execution": {
     "iopub.execute_input": "2024-11-10T14:18:48.987714Z",
     "iopub.status.busy": "2024-11-10T14:18:48.987300Z",
     "iopub.status.idle": "2024-11-10T14:18:48.998861Z",
     "shell.execute_reply": "2024-11-10T14:18:48.997787Z"
    },
    "papermill": {
     "duration": 0.227476,
     "end_time": "2024-11-10T14:18:49.001257",
     "exception": false,
     "start_time": "2024-11-10T14:18:48.773781",
     "status": "completed"
    },
    "tags": []
   },
   "outputs": [
    {
     "data": {
      "text/html": [
       "<div>\n",
       "<style scoped>\n",
       "    .dataframe tbody tr th:only-of-type {\n",
       "        vertical-align: middle;\n",
       "    }\n",
       "\n",
       "    .dataframe tbody tr th {\n",
       "        vertical-align: top;\n",
       "    }\n",
       "\n",
       "    .dataframe thead th {\n",
       "        text-align: right;\n",
       "    }\n",
       "</style>\n",
       "<table border=\"1\" class=\"dataframe\">\n",
       "  <thead>\n",
       "    <tr style=\"text-align: right;\">\n",
       "      <th></th>\n",
       "      <th>id</th>\n",
       "      <th>evaluation</th>\n",
       "    </tr>\n",
       "  </thead>\n",
       "  <tbody>\n",
       "    <tr>\n",
       "      <th>0</th>\n",
       "      <td>26065374</td>\n",
       "      <td>equal</td>\n",
       "    </tr>\n",
       "    <tr>\n",
       "      <th>1</th>\n",
       "      <td>32481096</td>\n",
       "      <td>equal</td>\n",
       "    </tr>\n",
       "    <tr>\n",
       "      <th>2</th>\n",
       "      <td>36997677</td>\n",
       "      <td>white</td>\n",
       "    </tr>\n",
       "    <tr>\n",
       "      <th>3</th>\n",
       "      <td>34417938</td>\n",
       "      <td>black</td>\n",
       "    </tr>\n",
       "    <tr>\n",
       "      <th>4</th>\n",
       "      <td>28905181</td>\n",
       "      <td>black</td>\n",
       "    </tr>\n",
       "  </tbody>\n",
       "</table>\n",
       "</div>"
      ],
      "text/plain": [
       "         id evaluation\n",
       "0  26065374      equal\n",
       "1  32481096      equal\n",
       "2  36997677      white\n",
       "3  34417938      black\n",
       "4  28905181      black"
      ]
     },
     "execution_count": 30,
     "metadata": {},
     "output_type": "execute_result"
    }
   ],
   "source": [
    "df_ans.head()"
   ]
  },
  {
   "cell_type": "code",
   "execution_count": 31,
   "id": "3c63435b",
   "metadata": {
    "execution": {
     "iopub.execute_input": "2024-11-10T14:18:49.432772Z",
     "iopub.status.busy": "2024-11-10T14:18:49.431929Z",
     "iopub.status.idle": "2024-11-10T14:18:49.456983Z",
     "shell.execute_reply": "2024-11-10T14:18:49.455897Z"
    },
    "papermill": {
     "duration": 0.244954,
     "end_time": "2024-11-10T14:18:49.459741",
     "exception": false,
     "start_time": "2024-11-10T14:18:49.214787",
     "status": "completed"
    },
    "tags": []
   },
   "outputs": [],
   "source": [
    "df_ans.to_csv('/kaggle/working/submission_cnn.csv',index=False)"
   ]
  },
  {
   "cell_type": "markdown",
   "id": "c16b07c4",
   "metadata": {
    "execution": {
     "iopub.execute_input": "2024-11-10T09:47:25.054795Z",
     "iopub.status.busy": "2024-11-10T09:47:25.054312Z",
     "iopub.status.idle": "2024-11-10T09:47:25.060676Z",
     "shell.execute_reply": "2024-11-10T09:47:25.059308Z",
     "shell.execute_reply.started": "2024-11-10T09:47:25.054750Z"
    },
    "papermill": {
     "duration": 0.213886,
     "end_time": "2024-11-10T14:18:49.886110",
     "exception": false,
     "start_time": "2024-11-10T14:18:49.672224",
     "status": "completed"
    },
    "tags": []
   },
   "source": [
    "<h1>MATERIAL STRENGTH BASED APPROACH"
   ]
  },
  {
   "cell_type": "code",
   "execution_count": 32,
   "id": "fca6d4f6",
   "metadata": {
    "execution": {
     "iopub.execute_input": "2024-11-10T14:18:50.317882Z",
     "iopub.status.busy": "2024-11-10T14:18:50.316710Z",
     "iopub.status.idle": "2024-11-10T14:18:50.771655Z",
     "shell.execute_reply": "2024-11-10T14:18:50.770221Z"
    },
    "papermill": {
     "duration": 0.674981,
     "end_time": "2024-11-10T14:18:50.774899",
     "exception": false,
     "start_time": "2024-11-10T14:18:50.099918",
     "status": "completed"
    },
    "tags": []
   },
   "outputs": [
    {
     "data": {
      "text/plain": [
       "{'white': 7300, 'black': 7160, 'equal': 7000}"
      ]
     },
     "execution_count": 32,
     "metadata": {},
     "output_type": "execute_result"
    }
   ],
   "source": [
    "import pandas as  pd\n",
    "values = {'white':0,'black':0,'equal':0}\n",
    "df = pd.read_csv('/kaggle/input/mqwerty1/train (2).csv')\n",
    "\n",
    "for i in df.index:\n",
    "    values[df.loc[i,'evaluation']]+=1\n",
    "    \n",
    "values"
   ]
  },
  {
   "cell_type": "code",
   "execution_count": 33,
   "id": "56dcb1f1",
   "metadata": {
    "execution": {
     "iopub.execute_input": "2024-11-10T14:18:51.232583Z",
     "iopub.status.busy": "2024-11-10T14:18:51.232052Z",
     "iopub.status.idle": "2024-11-10T14:18:51.245926Z",
     "shell.execute_reply": "2024-11-10T14:18:51.244756Z"
    },
    "papermill": {
     "duration": 0.240622,
     "end_time": "2024-11-10T14:18:51.249182",
     "exception": false,
     "start_time": "2024-11-10T14:18:51.008560",
     "status": "completed"
    },
    "tags": []
   },
   "outputs": [],
   "source": [
    "import pickle\n",
    "with open('/kaggle/input/encodi/train_set_encodings.pkl','rb') as f:\n",
    "    fen_encodings, labels = pickle.load(f)\n"
   ]
  },
  {
   "cell_type": "code",
   "execution_count": 34,
   "id": "9ea592ee",
   "metadata": {
    "execution": {
     "iopub.execute_input": "2024-11-10T14:18:51.742187Z",
     "iopub.status.busy": "2024-11-10T14:18:51.741050Z",
     "iopub.status.idle": "2024-11-10T14:18:51.748308Z",
     "shell.execute_reply": "2024-11-10T14:18:51.747069Z"
    },
    "papermill": {
     "duration": 0.229392,
     "end_time": "2024-11-10T14:18:51.751110",
     "exception": false,
     "start_time": "2024-11-10T14:18:51.521718",
     "status": "completed"
    },
    "tags": []
   },
   "outputs": [],
   "source": [
    "# import pandas as pd\n",
    "# import numpy as np\n",
    "\n",
    "# piece_columns = ['white_pawn', 'white_knight', 'white_bishop', 'white_rook', 'white_queen', 'white_king',\n",
    "#                  'black_pawn', 'black_knight', 'black_bishop', 'black_rook', 'black_queen', 'black_king']\n",
    "\n",
    "# df_chess = pd.DataFrame(columns=piece_columns + ['label'])\n",
    "\n",
    "\n",
    "# piece_map = {\n",
    "#     'P': 'white_pawn', 'N': 'white_knight', 'B': 'white_bishop', 'R': 'white_rook', 'Q': 'white_queen', 'K': 'white_king',\n",
    "#     'p': 'black_pawn', 'n': 'black_knight', 'b': 'black_bishop', 'r': 'black_rook', 'q': 'black_queen', 'k': 'black_king'\n",
    "# }\n",
    "# for index, fen in enumerate(fen_encodings):\n",
    "    \n",
    "#     piece_count = {piece: 0 for piece in piece_columns}    \n",
    "#     rows = fen.split('/')\n",
    "    \n",
    "#     for row in rows:\n",
    "#         for char in row:\n",
    "#             if char.isdigit():\n",
    "#                 continue  \n",
    "#             if char in piece_map:\n",
    "#                 piece_count[piece_map[char]] += 1 \n",
    "    \n",
    "#     df_row = pd.DataFrame(piece_count, index=[0])\n",
    "#     df_row['label'] = labels[index]\n",
    "    \n",
    "#     df_chess = pd.concat([df_chess, df_row], ignore_index=True)"
   ]
  },
  {
   "cell_type": "code",
   "execution_count": 35,
   "id": "09ef0d54",
   "metadata": {
    "execution": {
     "iopub.execute_input": "2024-11-10T14:18:52.189939Z",
     "iopub.status.busy": "2024-11-10T14:18:52.189016Z",
     "iopub.status.idle": "2024-11-10T14:18:52.194379Z",
     "shell.execute_reply": "2024-11-10T14:18:52.193194Z"
    },
    "papermill": {
     "duration": 0.226632,
     "end_time": "2024-11-10T14:18:52.196810",
     "exception": false,
     "start_time": "2024-11-10T14:18:51.970178",
     "status": "completed"
    },
    "tags": []
   },
   "outputs": [],
   "source": [
    "#df_chess.to_csv('/kaggle/working/material_data_train.csv',index=False)"
   ]
  },
  {
   "cell_type": "code",
   "execution_count": 36,
   "id": "9c506acd",
   "metadata": {
    "execution": {
     "iopub.execute_input": "2024-11-10T14:18:52.624979Z",
     "iopub.status.busy": "2024-11-10T14:18:52.624529Z",
     "iopub.status.idle": "2024-11-10T14:18:52.672180Z",
     "shell.execute_reply": "2024-11-10T14:18:52.670992Z"
    },
    "papermill": {
     "duration": 0.264462,
     "end_time": "2024-11-10T14:18:52.675021",
     "exception": false,
     "start_time": "2024-11-10T14:18:52.410559",
     "status": "completed"
    },
    "tags": []
   },
   "outputs": [],
   "source": [
    "df_chess_temp = pd.read_csv('/kaggle/input/mqwerty1/material_data_train.csv')"
   ]
  },
  {
   "cell_type": "code",
   "execution_count": 37,
   "id": "35dcedbc",
   "metadata": {
    "execution": {
     "iopub.execute_input": "2024-11-10T14:18:53.115256Z",
     "iopub.status.busy": "2024-11-10T14:18:53.114773Z",
     "iopub.status.idle": "2024-11-10T14:18:53.123178Z",
     "shell.execute_reply": "2024-11-10T14:18:53.122060Z"
    },
    "papermill": {
     "duration": 0.234586,
     "end_time": "2024-11-10T14:18:53.126035",
     "exception": false,
     "start_time": "2024-11-10T14:18:52.891449",
     "status": "completed"
    },
    "tags": []
   },
   "outputs": [
    {
     "name": "stdout",
     "output_type": "stream",
     "text": [
      "Unique entries in 'label' column: ['white' 'black' 'equal']\n"
     ]
    }
   ],
   "source": [
    "# Check unique entries in the 'label' column\n",
    "unique_labels = df_chess_temp['label'].unique()\n",
    "print(\"Unique entries in 'label' column:\", unique_labels)\n"
   ]
  },
  {
   "cell_type": "code",
   "execution_count": 38,
   "id": "bae6c603",
   "metadata": {
    "execution": {
     "iopub.execute_input": "2024-11-10T14:18:53.557776Z",
     "iopub.status.busy": "2024-11-10T14:18:53.557362Z",
     "iopub.status.idle": "2024-11-10T14:18:53.583073Z",
     "shell.execute_reply": "2024-11-10T14:18:53.581860Z"
    },
    "papermill": {
     "duration": 0.24357,
     "end_time": "2024-11-10T14:18:53.585646",
     "exception": false,
     "start_time": "2024-11-10T14:18:53.342076",
     "status": "completed"
    },
    "tags": []
   },
   "outputs": [],
   "source": [
    "def map_label(label):\n",
    "    if label == 'white':\n",
    "        return 2\n",
    "    elif label == 'black':\n",
    "        return 1\n",
    "    elif label == 'equal':\n",
    "        return 0  \n",
    "df_chess_temp['label'] = df_chess_temp['label'].apply(map_label)\n"
   ]
  },
  {
   "cell_type": "code",
   "execution_count": 39,
   "id": "80b0c2a7",
   "metadata": {
    "execution": {
     "iopub.execute_input": "2024-11-10T14:18:54.017038Z",
     "iopub.status.busy": "2024-11-10T14:18:54.016564Z",
     "iopub.status.idle": "2024-11-10T14:18:54.033247Z",
     "shell.execute_reply": "2024-11-10T14:18:54.031965Z"
    },
    "papermill": {
     "duration": 0.236187,
     "end_time": "2024-11-10T14:18:54.035717",
     "exception": false,
     "start_time": "2024-11-10T14:18:53.799530",
     "status": "completed"
    },
    "tags": []
   },
   "outputs": [
    {
     "data": {
      "text/html": [
       "<div>\n",
       "<style scoped>\n",
       "    .dataframe tbody tr th:only-of-type {\n",
       "        vertical-align: middle;\n",
       "    }\n",
       "\n",
       "    .dataframe tbody tr th {\n",
       "        vertical-align: top;\n",
       "    }\n",
       "\n",
       "    .dataframe thead th {\n",
       "        text-align: right;\n",
       "    }\n",
       "</style>\n",
       "<table border=\"1\" class=\"dataframe\">\n",
       "  <thead>\n",
       "    <tr style=\"text-align: right;\">\n",
       "      <th></th>\n",
       "      <th>white_pawn</th>\n",
       "      <th>white_knight</th>\n",
       "      <th>white_bishop</th>\n",
       "      <th>white_rook</th>\n",
       "      <th>white_queen</th>\n",
       "      <th>white_king</th>\n",
       "      <th>black_pawn</th>\n",
       "      <th>black_knight</th>\n",
       "      <th>black_bishop</th>\n",
       "      <th>black_rook</th>\n",
       "      <th>black_queen</th>\n",
       "      <th>black_king</th>\n",
       "      <th>label</th>\n",
       "    </tr>\n",
       "  </thead>\n",
       "  <tbody>\n",
       "    <tr>\n",
       "      <th>0</th>\n",
       "      <td>5</td>\n",
       "      <td>0</td>\n",
       "      <td>2</td>\n",
       "      <td>2</td>\n",
       "      <td>1</td>\n",
       "      <td>1</td>\n",
       "      <td>6</td>\n",
       "      <td>1</td>\n",
       "      <td>2</td>\n",
       "      <td>2</td>\n",
       "      <td>0</td>\n",
       "      <td>1</td>\n",
       "      <td>2</td>\n",
       "    </tr>\n",
       "    <tr>\n",
       "      <th>1</th>\n",
       "      <td>7</td>\n",
       "      <td>2</td>\n",
       "      <td>2</td>\n",
       "      <td>2</td>\n",
       "      <td>1</td>\n",
       "      <td>1</td>\n",
       "      <td>6</td>\n",
       "      <td>2</td>\n",
       "      <td>2</td>\n",
       "      <td>2</td>\n",
       "      <td>1</td>\n",
       "      <td>1</td>\n",
       "      <td>1</td>\n",
       "    </tr>\n",
       "    <tr>\n",
       "      <th>2</th>\n",
       "      <td>0</td>\n",
       "      <td>0</td>\n",
       "      <td>1</td>\n",
       "      <td>1</td>\n",
       "      <td>0</td>\n",
       "      <td>1</td>\n",
       "      <td>2</td>\n",
       "      <td>0</td>\n",
       "      <td>0</td>\n",
       "      <td>1</td>\n",
       "      <td>0</td>\n",
       "      <td>1</td>\n",
       "      <td>0</td>\n",
       "    </tr>\n",
       "    <tr>\n",
       "      <th>3</th>\n",
       "      <td>5</td>\n",
       "      <td>0</td>\n",
       "      <td>2</td>\n",
       "      <td>2</td>\n",
       "      <td>1</td>\n",
       "      <td>1</td>\n",
       "      <td>6</td>\n",
       "      <td>1</td>\n",
       "      <td>1</td>\n",
       "      <td>2</td>\n",
       "      <td>1</td>\n",
       "      <td>1</td>\n",
       "      <td>1</td>\n",
       "    </tr>\n",
       "    <tr>\n",
       "      <th>4</th>\n",
       "      <td>0</td>\n",
       "      <td>0</td>\n",
       "      <td>0</td>\n",
       "      <td>1</td>\n",
       "      <td>0</td>\n",
       "      <td>1</td>\n",
       "      <td>3</td>\n",
       "      <td>0</td>\n",
       "      <td>0</td>\n",
       "      <td>1</td>\n",
       "      <td>0</td>\n",
       "      <td>1</td>\n",
       "      <td>1</td>\n",
       "    </tr>\n",
       "  </tbody>\n",
       "</table>\n",
       "</div>"
      ],
      "text/plain": [
       "   white_pawn  white_knight  white_bishop  white_rook  white_queen  \\\n",
       "0           5             0             2           2            1   \n",
       "1           7             2             2           2            1   \n",
       "2           0             0             1           1            0   \n",
       "3           5             0             2           2            1   \n",
       "4           0             0             0           1            0   \n",
       "\n",
       "   white_king  black_pawn  black_knight  black_bishop  black_rook  \\\n",
       "0           1           6             1             2           2   \n",
       "1           1           6             2             2           2   \n",
       "2           1           2             0             0           1   \n",
       "3           1           6             1             1           2   \n",
       "4           1           3             0             0           1   \n",
       "\n",
       "   black_queen  black_king  label  \n",
       "0            0           1      2  \n",
       "1            1           1      1  \n",
       "2            0           1      0  \n",
       "3            1           1      1  \n",
       "4            0           1      1  "
      ]
     },
     "execution_count": 39,
     "metadata": {},
     "output_type": "execute_result"
    }
   ],
   "source": [
    "df_chess_temp.head()"
   ]
  },
  {
   "cell_type": "code",
   "execution_count": 40,
   "id": "404c92a1",
   "metadata": {
    "execution": {
     "iopub.execute_input": "2024-11-10T14:18:54.469053Z",
     "iopub.status.busy": "2024-11-10T14:18:54.468196Z",
     "iopub.status.idle": "2024-11-10T14:18:54.704963Z",
     "shell.execute_reply": "2024-11-10T14:18:54.703975Z"
    },
    "papermill": {
     "duration": 0.457315,
     "end_time": "2024-11-10T14:18:54.707779",
     "exception": false,
     "start_time": "2024-11-10T14:18:54.250464",
     "status": "completed"
    },
    "tags": []
   },
   "outputs": [],
   "source": [
    "from sklearn.model_selection import train_test_split\n",
    "import numpy as np\n",
    "import pandas as pd\n",
    "\n",
    "\n",
    "def one_hot_encode_column(df, col, num_values):\n",
    "    expanded_cols = np.zeros((df.shape[0], num_values), dtype=int)\n",
    "    for i, val in enumerate(df[col]):\n",
    "        if 0 <= val < num_values:\n",
    "            expanded_cols[i, val] = 1\n",
    "    expanded_df = pd.DataFrame(expanded_cols, columns=[f\"{col}_{i}\" for i in range(num_values)])\n",
    "    return expanded_df\n",
    "\n",
    "columns_to_expand = {\n",
    "    'white_pawn': 12, 'white_knight': 12, 'white_bishop': 12, 'white_rook': 12, \n",
    "    'white_queen': 12, 'white_king': 2, 'black_pawn': 12, 'black_knight': 12, \n",
    "    'black_bishop': 12, 'black_rook': 12, 'black_queen': 12, 'black_king': 2\n",
    "}\n",
    "\n",
    "one_hot_encoded_columns = [one_hot_encode_column(df_chess_temp, col, num_values) \n",
    "                           for col, num_values in columns_to_expand.items()]\n",
    "one_hot_encoded_columns=pd.concat(one_hot_encoded_columns, axis=1)\n",
    "df_chess_temp = pd.concat([pd.DataFrame(one_hot_encoded_columns), df_chess_temp['label']], axis=1)"
   ]
  },
  {
   "cell_type": "code",
   "execution_count": 41,
   "id": "305ae25a",
   "metadata": {
    "execution": {
     "iopub.execute_input": "2024-11-10T14:18:55.142891Z",
     "iopub.status.busy": "2024-11-10T14:18:55.141803Z",
     "iopub.status.idle": "2024-11-10T14:18:55.166245Z",
     "shell.execute_reply": "2024-11-10T14:18:55.165185Z"
    },
    "papermill": {
     "duration": 0.243387,
     "end_time": "2024-11-10T14:18:55.169074",
     "exception": false,
     "start_time": "2024-11-10T14:18:54.925687",
     "status": "completed"
    },
    "tags": []
   },
   "outputs": [
    {
     "data": {
      "text/html": [
       "<div>\n",
       "<style scoped>\n",
       "    .dataframe tbody tr th:only-of-type {\n",
       "        vertical-align: middle;\n",
       "    }\n",
       "\n",
       "    .dataframe tbody tr th {\n",
       "        vertical-align: top;\n",
       "    }\n",
       "\n",
       "    .dataframe thead th {\n",
       "        text-align: right;\n",
       "    }\n",
       "</style>\n",
       "<table border=\"1\" class=\"dataframe\">\n",
       "  <thead>\n",
       "    <tr style=\"text-align: right;\">\n",
       "      <th></th>\n",
       "      <th>white_pawn_0</th>\n",
       "      <th>white_pawn_1</th>\n",
       "      <th>white_pawn_2</th>\n",
       "      <th>white_pawn_3</th>\n",
       "      <th>white_pawn_4</th>\n",
       "      <th>white_pawn_5</th>\n",
       "      <th>white_pawn_6</th>\n",
       "      <th>white_pawn_7</th>\n",
       "      <th>white_pawn_8</th>\n",
       "      <th>white_pawn_9</th>\n",
       "      <th>...</th>\n",
       "      <th>black_queen_5</th>\n",
       "      <th>black_queen_6</th>\n",
       "      <th>black_queen_7</th>\n",
       "      <th>black_queen_8</th>\n",
       "      <th>black_queen_9</th>\n",
       "      <th>black_queen_10</th>\n",
       "      <th>black_queen_11</th>\n",
       "      <th>black_king_0</th>\n",
       "      <th>black_king_1</th>\n",
       "      <th>label</th>\n",
       "    </tr>\n",
       "  </thead>\n",
       "  <tbody>\n",
       "    <tr>\n",
       "      <th>0</th>\n",
       "      <td>0</td>\n",
       "      <td>0</td>\n",
       "      <td>0</td>\n",
       "      <td>0</td>\n",
       "      <td>0</td>\n",
       "      <td>1</td>\n",
       "      <td>0</td>\n",
       "      <td>0</td>\n",
       "      <td>0</td>\n",
       "      <td>0</td>\n",
       "      <td>...</td>\n",
       "      <td>0</td>\n",
       "      <td>0</td>\n",
       "      <td>0</td>\n",
       "      <td>0</td>\n",
       "      <td>0</td>\n",
       "      <td>0</td>\n",
       "      <td>0</td>\n",
       "      <td>0</td>\n",
       "      <td>1</td>\n",
       "      <td>2</td>\n",
       "    </tr>\n",
       "    <tr>\n",
       "      <th>1</th>\n",
       "      <td>0</td>\n",
       "      <td>0</td>\n",
       "      <td>0</td>\n",
       "      <td>0</td>\n",
       "      <td>0</td>\n",
       "      <td>0</td>\n",
       "      <td>0</td>\n",
       "      <td>1</td>\n",
       "      <td>0</td>\n",
       "      <td>0</td>\n",
       "      <td>...</td>\n",
       "      <td>0</td>\n",
       "      <td>0</td>\n",
       "      <td>0</td>\n",
       "      <td>0</td>\n",
       "      <td>0</td>\n",
       "      <td>0</td>\n",
       "      <td>0</td>\n",
       "      <td>0</td>\n",
       "      <td>1</td>\n",
       "      <td>1</td>\n",
       "    </tr>\n",
       "    <tr>\n",
       "      <th>2</th>\n",
       "      <td>1</td>\n",
       "      <td>0</td>\n",
       "      <td>0</td>\n",
       "      <td>0</td>\n",
       "      <td>0</td>\n",
       "      <td>0</td>\n",
       "      <td>0</td>\n",
       "      <td>0</td>\n",
       "      <td>0</td>\n",
       "      <td>0</td>\n",
       "      <td>...</td>\n",
       "      <td>0</td>\n",
       "      <td>0</td>\n",
       "      <td>0</td>\n",
       "      <td>0</td>\n",
       "      <td>0</td>\n",
       "      <td>0</td>\n",
       "      <td>0</td>\n",
       "      <td>0</td>\n",
       "      <td>1</td>\n",
       "      <td>0</td>\n",
       "    </tr>\n",
       "    <tr>\n",
       "      <th>3</th>\n",
       "      <td>0</td>\n",
       "      <td>0</td>\n",
       "      <td>0</td>\n",
       "      <td>0</td>\n",
       "      <td>0</td>\n",
       "      <td>1</td>\n",
       "      <td>0</td>\n",
       "      <td>0</td>\n",
       "      <td>0</td>\n",
       "      <td>0</td>\n",
       "      <td>...</td>\n",
       "      <td>0</td>\n",
       "      <td>0</td>\n",
       "      <td>0</td>\n",
       "      <td>0</td>\n",
       "      <td>0</td>\n",
       "      <td>0</td>\n",
       "      <td>0</td>\n",
       "      <td>0</td>\n",
       "      <td>1</td>\n",
       "      <td>1</td>\n",
       "    </tr>\n",
       "    <tr>\n",
       "      <th>4</th>\n",
       "      <td>1</td>\n",
       "      <td>0</td>\n",
       "      <td>0</td>\n",
       "      <td>0</td>\n",
       "      <td>0</td>\n",
       "      <td>0</td>\n",
       "      <td>0</td>\n",
       "      <td>0</td>\n",
       "      <td>0</td>\n",
       "      <td>0</td>\n",
       "      <td>...</td>\n",
       "      <td>0</td>\n",
       "      <td>0</td>\n",
       "      <td>0</td>\n",
       "      <td>0</td>\n",
       "      <td>0</td>\n",
       "      <td>0</td>\n",
       "      <td>0</td>\n",
       "      <td>0</td>\n",
       "      <td>1</td>\n",
       "      <td>1</td>\n",
       "    </tr>\n",
       "  </tbody>\n",
       "</table>\n",
       "<p>5 rows × 125 columns</p>\n",
       "</div>"
      ],
      "text/plain": [
       "   white_pawn_0  white_pawn_1  white_pawn_2  white_pawn_3  white_pawn_4  \\\n",
       "0             0             0             0             0             0   \n",
       "1             0             0             0             0             0   \n",
       "2             1             0             0             0             0   \n",
       "3             0             0             0             0             0   \n",
       "4             1             0             0             0             0   \n",
       "\n",
       "   white_pawn_5  white_pawn_6  white_pawn_7  white_pawn_8  white_pawn_9  ...  \\\n",
       "0             1             0             0             0             0  ...   \n",
       "1             0             0             1             0             0  ...   \n",
       "2             0             0             0             0             0  ...   \n",
       "3             1             0             0             0             0  ...   \n",
       "4             0             0             0             0             0  ...   \n",
       "\n",
       "   black_queen_5  black_queen_6  black_queen_7  black_queen_8  black_queen_9  \\\n",
       "0              0              0              0              0              0   \n",
       "1              0              0              0              0              0   \n",
       "2              0              0              0              0              0   \n",
       "3              0              0              0              0              0   \n",
       "4              0              0              0              0              0   \n",
       "\n",
       "   black_queen_10  black_queen_11  black_king_0  black_king_1  label  \n",
       "0               0               0             0             1      2  \n",
       "1               0               0             0             1      1  \n",
       "2               0               0             0             1      0  \n",
       "3               0               0             0             1      1  \n",
       "4               0               0             0             1      1  \n",
       "\n",
       "[5 rows x 125 columns]"
      ]
     },
     "execution_count": 41,
     "metadata": {},
     "output_type": "execute_result"
    }
   ],
   "source": [
    "df_chess_temp.head()"
   ]
  },
  {
   "cell_type": "code",
   "execution_count": 42,
   "id": "ed2ccc06",
   "metadata": {
    "execution": {
     "iopub.execute_input": "2024-11-10T14:18:55.602670Z",
     "iopub.status.busy": "2024-11-10T14:18:55.602260Z",
     "iopub.status.idle": "2024-11-10T14:18:55.740582Z",
     "shell.execute_reply": "2024-11-10T14:18:55.739361Z"
    },
    "papermill": {
     "duration": 0.358402,
     "end_time": "2024-11-10T14:18:55.743458",
     "exception": false,
     "start_time": "2024-11-10T14:18:55.385056",
     "status": "completed"
    },
    "tags": []
   },
   "outputs": [],
   "source": [
    "int_columns = df_chess_temp.select_dtypes(include='int64').columns  \n",
    "df_chess_temp[int_columns] = df_chess_temp[int_columns].astype('category')\n",
    "df_chess_temp[ 'label' ] = df_chess_temp['label'].astype('int')"
   ]
  },
  {
   "cell_type": "code",
   "execution_count": 43,
   "id": "12173fc9",
   "metadata": {
    "execution": {
     "iopub.execute_input": "2024-11-10T14:18:56.231829Z",
     "iopub.status.busy": "2024-11-10T14:18:56.230700Z",
     "iopub.status.idle": "2024-11-10T14:18:56.278778Z",
     "shell.execute_reply": "2024-11-10T14:18:56.277108Z"
    },
    "papermill": {
     "duration": 0.323002,
     "end_time": "2024-11-10T14:18:56.282200",
     "exception": false,
     "start_time": "2024-11-10T14:18:55.959198",
     "status": "completed"
    },
    "tags": []
   },
   "outputs": [
    {
     "name": "stdout",
     "output_type": "stream",
     "text": [
      "<class 'pandas.core.frame.DataFrame'>\n",
      "RangeIndex: 21459 entries, 0 to 21458\n",
      "Columns: 125 entries, white_pawn_0 to label\n",
      "dtypes: category(124), int64(1)\n",
      "memory usage: 2.7 MB\n"
     ]
    }
   ],
   "source": [
    "df_chess_temp.info()"
   ]
  },
  {
   "cell_type": "code",
   "execution_count": 44,
   "id": "24ba2191",
   "metadata": {
    "execution": {
     "iopub.execute_input": "2024-11-10T14:18:56.713938Z",
     "iopub.status.busy": "2024-11-10T14:18:56.713509Z",
     "iopub.status.idle": "2024-11-10T14:18:56.815420Z",
     "shell.execute_reply": "2024-11-10T14:18:56.814399Z"
    },
    "papermill": {
     "duration": 0.320712,
     "end_time": "2024-11-10T14:18:56.818157",
     "exception": false,
     "start_time": "2024-11-10T14:18:56.497445",
     "status": "completed"
    },
    "tags": []
   },
   "outputs": [],
   "source": [
    "from sklearn.model_selection import train_test_split\n",
    "import numpy as np\n",
    "import pandas as pd\n",
    "piece_columns = df_chess_temp.columns[:-1]\n",
    "\n",
    "df_chess_temp[piece_columns] = df_chess_temp[piece_columns].astype('category')\n",
    "\n",
    "\n",
    "X = np.array(df_chess_temp[piece_columns].values)\n",
    "y = np.array(df_chess_temp['label'].values)\n",
    "\n",
    "X_train, X_test, y_train, y_test = train_test_split(X, y, test_size=0.2, random_state=82)\n"
   ]
  },
  {
   "cell_type": "code",
   "execution_count": 45,
   "id": "58b4eac2",
   "metadata": {
    "execution": {
     "iopub.execute_input": "2024-11-10T14:18:57.252698Z",
     "iopub.status.busy": "2024-11-10T14:18:57.252241Z",
     "iopub.status.idle": "2024-11-10T14:21:58.745819Z",
     "shell.execute_reply": "2024-11-10T14:21:58.744601Z"
    },
    "papermill": {
     "duration": 181.71449,
     "end_time": "2024-11-10T14:21:58.748321",
     "exception": false,
     "start_time": "2024-11-10T14:18:57.033831",
     "status": "completed"
    },
    "tags": []
   },
   "outputs": [
    {
     "name": "stdout",
     "output_type": "stream",
     "text": [
      "[LightGBM] [Info] Auto-choosing row-wise multi-threading, the overhead of testing was 0.004172 seconds.\n",
      "You can set `force_row_wise=true` to remove the overhead.\n",
      "And if memory is not enough, you can set `force_col_wise=true`.\n",
      "[LightGBM] [Info] Total Bins 84\n",
      "[LightGBM] [Info] Number of data points in the train set: 17167, number of used features: 42\n",
      "[LightGBM] [Info] Start training from score -1.123084\n",
      "[LightGBM] [Info] Start training from score -1.093615\n",
      "[LightGBM] [Info] Start training from score -1.079629\n",
      "Accuracy: 68.99%\n"
     ]
    }
   ],
   "source": [
    "from sklearn.ensemble import VotingClassifier\n",
    "from sklearn.svm import SVC\n",
    "from catboost import CatBoostClassifier\n",
    "from lightgbm import LGBMClassifier\n",
    "from sklearn.metrics import accuracy_score\n",
    "\n",
    "class ReshapedCatBoostClassifier(CatBoostClassifier):\n",
    "    def predict(self, X):\n",
    "        return super().predict(X).reshape(-1)\n",
    "\n",
    "estimators = [\n",
    "    ('svm', SVC(C=4.485456534252414, kernel='rbf', probability=True)),\n",
    "    ('catboost', ReshapedCatBoostClassifier(verbose=0)),\n",
    "    ('lightgbm', LGBMClassifier())\n",
    "]\n",
    "\n",
    "modelog = VotingClassifier(estimators=estimators, voting='hard')\n",
    "modelog.fit(X_train, y_train)\n",
    "\n",
    "y_pred = modelog.predict(X_test)\n",
    "accuracy = accuracy_score(y_test, y_pred)\n",
    "print(f'Accuracy: {accuracy * 100:.2f}%')\n"
   ]
  },
  {
   "cell_type": "code",
   "execution_count": 46,
   "id": "616e78fe",
   "metadata": {
    "execution": {
     "iopub.execute_input": "2024-11-10T14:21:59.185198Z",
     "iopub.status.busy": "2024-11-10T14:21:59.184167Z",
     "iopub.status.idle": "2024-11-10T14:34:22.704564Z",
     "shell.execute_reply": "2024-11-10T14:34:22.703256Z"
    },
    "papermill": {
     "duration": 743.742497,
     "end_time": "2024-11-10T14:34:22.707328",
     "exception": false,
     "start_time": "2024-11-10T14:21:58.964831",
     "status": "completed"
    },
    "tags": []
   },
   "outputs": [
    {
     "name": "stdout",
     "output_type": "stream",
     "text": [
      "[LightGBM] [Info] Auto-choosing row-wise multi-threading, the overhead of testing was 0.001820 seconds.\n",
      "You can set `force_row_wise=true` to remove the overhead.\n",
      "And if memory is not enough, you can set `force_col_wise=true`.\n",
      "[LightGBM] [Info] Total Bins 84\n",
      "[LightGBM] [Info] Number of data points in the train set: 17167, number of used features: 42\n",
      "[LightGBM] [Info] Start training from score -1.123084\n",
      "[LightGBM] [Info] Start training from score -1.093615\n",
      "[LightGBM] [Info] Start training from score -1.079629\n",
      "[LightGBM] [Info] Auto-choosing row-wise multi-threading, the overhead of testing was 0.001451 seconds.\n",
      "You can set `force_row_wise=true` to remove the overhead.\n",
      "And if memory is not enough, you can set `force_col_wise=true`.\n",
      "[LightGBM] [Info] Total Bins 84\n",
      "[LightGBM] [Info] Number of data points in the train set: 13733, number of used features: 42\n",
      "[LightGBM] [Info] Start training from score -1.123085\n",
      "[LightGBM] [Info] Start training from score -1.093528\n",
      "[LightGBM] [Info] Start training from score -1.079714\n",
      "[LightGBM] [Info] Auto-choosing row-wise multi-threading, the overhead of testing was 0.001448 seconds.\n",
      "You can set `force_row_wise=true` to remove the overhead.\n",
      "And if memory is not enough, you can set `force_col_wise=true`.\n",
      "[LightGBM] [Info] Total Bins 84\n",
      "[LightGBM] [Info] Number of data points in the train set: 13733, number of used features: 42\n",
      "[LightGBM] [Info] Start training from score -1.123085\n",
      "[LightGBM] [Info] Start training from score -1.093528\n",
      "[LightGBM] [Info] Start training from score -1.079714\n",
      "[LightGBM] [Info] Auto-choosing row-wise multi-threading, the overhead of testing was 0.001451 seconds.\n",
      "You can set `force_row_wise=true` to remove the overhead.\n",
      "And if memory is not enough, you can set `force_col_wise=true`.\n",
      "[LightGBM] [Info] Total Bins 84\n",
      "[LightGBM] [Info] Number of data points in the train set: 13734, number of used features: 42\n",
      "[LightGBM] [Info] Start training from score -1.123157\n",
      "[LightGBM] [Info] Start training from score -1.093601\n",
      "[LightGBM] [Info] Start training from score -1.079572\n",
      "[LightGBM] [Info] Auto-choosing row-wise multi-threading, the overhead of testing was 0.001449 seconds.\n",
      "You can set `force_row_wise=true` to remove the overhead.\n",
      "And if memory is not enough, you can set `force_col_wise=true`.\n",
      "[LightGBM] [Info] Total Bins 82\n",
      "[LightGBM] [Info] Number of data points in the train set: 13734, number of used features: 41\n",
      "[LightGBM] [Info] Start training from score -1.123157\n",
      "[LightGBM] [Info] Start training from score -1.093601\n",
      "[LightGBM] [Info] Start training from score -1.079572\n",
      "[LightGBM] [Info] Auto-choosing row-wise multi-threading, the overhead of testing was 0.001452 seconds.\n",
      "You can set `force_row_wise=true` to remove the overhead.\n",
      "And if memory is not enough, you can set `force_col_wise=true`.\n",
      "[LightGBM] [Info] Total Bins 84\n",
      "[LightGBM] [Info] Number of data points in the train set: 13734, number of used features: 42\n",
      "[LightGBM] [Info] Start training from score -1.122934\n",
      "[LightGBM] [Info] Start training from score -1.093818\n",
      "[LightGBM] [Info] Start training from score -1.079572\n",
      "Stacking Accuracy: 68.83%\n"
     ]
    }
   ],
   "source": [
    "from sklearn.ensemble import StackingClassifier\n",
    "from sklearn.linear_model import LogisticRegression\n",
    "\n",
    "estimators = [\n",
    "    ('svm', SVC(C=4.485456534252414, kernel='rbf', probability=True)),\n",
    "    ('catboost', ReshapedCatBoostClassifier(verbose=0)),\n",
    "    ('lightgbm', LGBMClassifier())\n",
    "]\n",
    "\n",
    "model = StackingClassifier(\n",
    "    estimators=estimators,\n",
    "    final_estimator=LogisticRegression(),\n",
    "    stack_method='predict_proba'  # Uses probabilistic predictions from base models\n",
    ")\n",
    "\n",
    "model.fit(X_train, y_train)\n",
    "y_pred = model.predict(X_test)\n",
    "accuracy = accuracy_score(y_test, y_pred)\n",
    "print(f'Stacking Accuracy: {accuracy * 100:.2f}%')\n"
   ]
  },
  {
   "cell_type": "code",
   "execution_count": 47,
   "id": "92733faf",
   "metadata": {
    "execution": {
     "iopub.execute_input": "2024-11-10T14:34:23.146440Z",
     "iopub.status.busy": "2024-11-10T14:34:23.145977Z",
     "iopub.status.idle": "2024-11-10T14:34:23.176386Z",
     "shell.execute_reply": "2024-11-10T14:34:23.175154Z"
    },
    "papermill": {
     "duration": 0.253586,
     "end_time": "2024-11-10T14:34:23.178800",
     "exception": false,
     "start_time": "2024-11-10T14:34:22.925214",
     "status": "completed"
    },
    "tags": []
   },
   "outputs": [
    {
     "data": {
      "text/html": [
       "<div>\n",
       "<style scoped>\n",
       "    .dataframe tbody tr th:only-of-type {\n",
       "        vertical-align: middle;\n",
       "    }\n",
       "\n",
       "    .dataframe tbody tr th {\n",
       "        vertical-align: top;\n",
       "    }\n",
       "\n",
       "    .dataframe thead th {\n",
       "        text-align: right;\n",
       "    }\n",
       "</style>\n",
       "<table border=\"1\" class=\"dataframe\">\n",
       "  <thead>\n",
       "    <tr style=\"text-align: right;\">\n",
       "      <th></th>\n",
       "      <th>white_pawn_0</th>\n",
       "      <th>white_pawn_1</th>\n",
       "      <th>white_pawn_2</th>\n",
       "      <th>white_pawn_3</th>\n",
       "      <th>white_pawn_4</th>\n",
       "      <th>white_pawn_5</th>\n",
       "      <th>white_pawn_6</th>\n",
       "      <th>white_pawn_7</th>\n",
       "      <th>white_pawn_8</th>\n",
       "      <th>white_pawn_9</th>\n",
       "      <th>...</th>\n",
       "      <th>black_queen_5</th>\n",
       "      <th>black_queen_6</th>\n",
       "      <th>black_queen_7</th>\n",
       "      <th>black_queen_8</th>\n",
       "      <th>black_queen_9</th>\n",
       "      <th>black_queen_10</th>\n",
       "      <th>black_queen_11</th>\n",
       "      <th>black_king_0</th>\n",
       "      <th>black_king_1</th>\n",
       "      <th>label</th>\n",
       "    </tr>\n",
       "  </thead>\n",
       "  <tbody>\n",
       "    <tr>\n",
       "      <th>0</th>\n",
       "      <td>0</td>\n",
       "      <td>0</td>\n",
       "      <td>0</td>\n",
       "      <td>0</td>\n",
       "      <td>0</td>\n",
       "      <td>1</td>\n",
       "      <td>0</td>\n",
       "      <td>0</td>\n",
       "      <td>0</td>\n",
       "      <td>0</td>\n",
       "      <td>...</td>\n",
       "      <td>0</td>\n",
       "      <td>0</td>\n",
       "      <td>0</td>\n",
       "      <td>0</td>\n",
       "      <td>0</td>\n",
       "      <td>0</td>\n",
       "      <td>0</td>\n",
       "      <td>0</td>\n",
       "      <td>1</td>\n",
       "      <td>2</td>\n",
       "    </tr>\n",
       "    <tr>\n",
       "      <th>1</th>\n",
       "      <td>0</td>\n",
       "      <td>0</td>\n",
       "      <td>0</td>\n",
       "      <td>0</td>\n",
       "      <td>0</td>\n",
       "      <td>0</td>\n",
       "      <td>0</td>\n",
       "      <td>1</td>\n",
       "      <td>0</td>\n",
       "      <td>0</td>\n",
       "      <td>...</td>\n",
       "      <td>0</td>\n",
       "      <td>0</td>\n",
       "      <td>0</td>\n",
       "      <td>0</td>\n",
       "      <td>0</td>\n",
       "      <td>0</td>\n",
       "      <td>0</td>\n",
       "      <td>0</td>\n",
       "      <td>1</td>\n",
       "      <td>1</td>\n",
       "    </tr>\n",
       "    <tr>\n",
       "      <th>2</th>\n",
       "      <td>1</td>\n",
       "      <td>0</td>\n",
       "      <td>0</td>\n",
       "      <td>0</td>\n",
       "      <td>0</td>\n",
       "      <td>0</td>\n",
       "      <td>0</td>\n",
       "      <td>0</td>\n",
       "      <td>0</td>\n",
       "      <td>0</td>\n",
       "      <td>...</td>\n",
       "      <td>0</td>\n",
       "      <td>0</td>\n",
       "      <td>0</td>\n",
       "      <td>0</td>\n",
       "      <td>0</td>\n",
       "      <td>0</td>\n",
       "      <td>0</td>\n",
       "      <td>0</td>\n",
       "      <td>1</td>\n",
       "      <td>0</td>\n",
       "    </tr>\n",
       "    <tr>\n",
       "      <th>3</th>\n",
       "      <td>0</td>\n",
       "      <td>0</td>\n",
       "      <td>0</td>\n",
       "      <td>0</td>\n",
       "      <td>0</td>\n",
       "      <td>1</td>\n",
       "      <td>0</td>\n",
       "      <td>0</td>\n",
       "      <td>0</td>\n",
       "      <td>0</td>\n",
       "      <td>...</td>\n",
       "      <td>0</td>\n",
       "      <td>0</td>\n",
       "      <td>0</td>\n",
       "      <td>0</td>\n",
       "      <td>0</td>\n",
       "      <td>0</td>\n",
       "      <td>0</td>\n",
       "      <td>0</td>\n",
       "      <td>1</td>\n",
       "      <td>1</td>\n",
       "    </tr>\n",
       "    <tr>\n",
       "      <th>4</th>\n",
       "      <td>1</td>\n",
       "      <td>0</td>\n",
       "      <td>0</td>\n",
       "      <td>0</td>\n",
       "      <td>0</td>\n",
       "      <td>0</td>\n",
       "      <td>0</td>\n",
       "      <td>0</td>\n",
       "      <td>0</td>\n",
       "      <td>0</td>\n",
       "      <td>...</td>\n",
       "      <td>0</td>\n",
       "      <td>0</td>\n",
       "      <td>0</td>\n",
       "      <td>0</td>\n",
       "      <td>0</td>\n",
       "      <td>0</td>\n",
       "      <td>0</td>\n",
       "      <td>0</td>\n",
       "      <td>1</td>\n",
       "      <td>1</td>\n",
       "    </tr>\n",
       "  </tbody>\n",
       "</table>\n",
       "<p>5 rows × 125 columns</p>\n",
       "</div>"
      ],
      "text/plain": [
       "  white_pawn_0 white_pawn_1 white_pawn_2 white_pawn_3 white_pawn_4  \\\n",
       "0            0            0            0            0            0   \n",
       "1            0            0            0            0            0   \n",
       "2            1            0            0            0            0   \n",
       "3            0            0            0            0            0   \n",
       "4            1            0            0            0            0   \n",
       "\n",
       "  white_pawn_5 white_pawn_6 white_pawn_7 white_pawn_8 white_pawn_9  ...  \\\n",
       "0            1            0            0            0            0  ...   \n",
       "1            0            0            1            0            0  ...   \n",
       "2            0            0            0            0            0  ...   \n",
       "3            1            0            0            0            0  ...   \n",
       "4            0            0            0            0            0  ...   \n",
       "\n",
       "  black_queen_5 black_queen_6 black_queen_7 black_queen_8 black_queen_9  \\\n",
       "0             0             0             0             0             0   \n",
       "1             0             0             0             0             0   \n",
       "2             0             0             0             0             0   \n",
       "3             0             0             0             0             0   \n",
       "4             0             0             0             0             0   \n",
       "\n",
       "  black_queen_10 black_queen_11 black_king_0 black_king_1 label  \n",
       "0              0              0            0            1     2  \n",
       "1              0              0            0            1     1  \n",
       "2              0              0            0            1     0  \n",
       "3              0              0            0            1     1  \n",
       "4              0              0            0            1     1  \n",
       "\n",
       "[5 rows x 125 columns]"
      ]
     },
     "execution_count": 47,
     "metadata": {},
     "output_type": "execute_result"
    }
   ],
   "source": [
    "df_chess_temp.head()"
   ]
  },
  {
   "cell_type": "code",
   "execution_count": 48,
   "id": "e5a8bda0",
   "metadata": {
    "execution": {
     "iopub.execute_input": "2024-11-10T14:34:23.617551Z",
     "iopub.status.busy": "2024-11-10T14:34:23.616525Z",
     "iopub.status.idle": "2024-11-10T14:34:23.642802Z",
     "shell.execute_reply": "2024-11-10T14:34:23.641374Z"
    },
    "papermill": {
     "duration": 0.247985,
     "end_time": "2024-11-10T14:34:23.645751",
     "exception": false,
     "start_time": "2024-11-10T14:34:23.397766",
     "status": "completed"
    },
    "tags": []
   },
   "outputs": [],
   "source": [
    "import pickle\n",
    "with open('/kaggle/input/encodi/test_encodings.pkl','rb') as f:\n",
    "    fen_test = pickle.load(f)"
   ]
  },
  {
   "cell_type": "code",
   "execution_count": 49,
   "id": "d3050e5c",
   "metadata": {
    "execution": {
     "iopub.execute_input": "2024-11-10T14:34:24.141127Z",
     "iopub.status.busy": "2024-11-10T14:34:24.140634Z",
     "iopub.status.idle": "2024-11-10T14:34:32.986645Z",
     "shell.execute_reply": "2024-11-10T14:34:32.985478Z"
    },
    "papermill": {
     "duration": 9.067729,
     "end_time": "2024-11-10T14:34:32.989507",
     "exception": false,
     "start_time": "2024-11-10T14:34:23.921778",
     "status": "completed"
    },
    "tags": []
   },
   "outputs": [],
   "source": [
    "piece_columns = [\n",
    "    'white_pawn', 'white_knight', 'white_bishop', 'white_rook', 'white_queen', 'white_king',\n",
    "    'black_pawn', 'black_knight', 'black_bishop', 'black_rook', 'black_queen', 'black_king'\n",
    "]\n",
    "\n",
    "piece_map = {\n",
    "    'P': 'white_pawn', 'N': 'white_knight', 'B': 'white_bishop', 'R': 'white_rook', 'Q': 'white_queen', 'K': 'white_king',\n",
    "    'p': 'black_pawn', 'n': 'black_knight', 'b': 'black_bishop', 'r': 'black_rook', 'q': 'black_queen', 'k': 'black_king'\n",
    "}\n",
    "df_chess_test = pd.DataFrame(columns=piece_columns)\n",
    "\n",
    "for index, fen in enumerate(fen_test):\n",
    "    piece_count = {piece: 0 for piece in piece_columns}  # Reset count for each FEN\n",
    "    \n",
    "    rows = fen.split('/')\n",
    "    \n",
    "    for row in rows:\n",
    "        for char in row:\n",
    "            if char.isdigit():\n",
    "                continue  \n",
    "            if char in piece_map:\n",
    "                piece_count[piece_map[char]] += 1  \n",
    "    \n",
    "    df_row = pd.DataFrame(piece_count, index=[0])  \n",
    "    df_chess_test = pd.concat([df_chess_test, df_row], ignore_index=True)  "
   ]
  },
  {
   "cell_type": "code",
   "execution_count": 50,
   "id": "b6882ee9",
   "metadata": {
    "execution": {
     "iopub.execute_input": "2024-11-10T14:34:33.428483Z",
     "iopub.status.busy": "2024-11-10T14:34:33.428038Z",
     "iopub.status.idle": "2024-11-10T14:34:33.451863Z",
     "shell.execute_reply": "2024-11-10T14:34:33.450503Z"
    },
    "papermill": {
     "duration": 0.244043,
     "end_time": "2024-11-10T14:34:33.454504",
     "exception": false,
     "start_time": "2024-11-10T14:34:33.210461",
     "status": "completed"
    },
    "tags": []
   },
   "outputs": [
    {
     "name": "stdout",
     "output_type": "stream",
     "text": [
      "<class 'pandas.core.frame.DataFrame'>\n",
      "RangeIndex: 8540 entries, 0 to 8539\n",
      "Data columns (total 12 columns):\n",
      " #   Column        Non-Null Count  Dtype \n",
      "---  ------        --------------  ----- \n",
      " 0   white_pawn    8540 non-null   object\n",
      " 1   white_knight  8540 non-null   object\n",
      " 2   white_bishop  8540 non-null   object\n",
      " 3   white_rook    8540 non-null   object\n",
      " 4   white_queen   8540 non-null   object\n",
      " 5   white_king    8540 non-null   object\n",
      " 6   black_pawn    8540 non-null   object\n",
      " 7   black_knight  8540 non-null   object\n",
      " 8   black_bishop  8540 non-null   object\n",
      " 9   black_rook    8540 non-null   object\n",
      " 10  black_queen   8540 non-null   object\n",
      " 11  black_king    8540 non-null   object\n",
      "dtypes: object(12)\n",
      "memory usage: 800.8+ KB\n"
     ]
    }
   ],
   "source": [
    "df_chess_test.info()"
   ]
  },
  {
   "cell_type": "code",
   "execution_count": 51,
   "id": "8bf27566",
   "metadata": {
    "execution": {
     "iopub.execute_input": "2024-11-10T14:34:33.891265Z",
     "iopub.status.busy": "2024-11-10T14:34:33.890414Z",
     "iopub.status.idle": "2024-11-10T14:34:33.970437Z",
     "shell.execute_reply": "2024-11-10T14:34:33.969144Z"
    },
    "papermill": {
     "duration": 0.301126,
     "end_time": "2024-11-10T14:34:33.973179",
     "exception": false,
     "start_time": "2024-11-10T14:34:33.672053",
     "status": "completed"
    },
    "tags": []
   },
   "outputs": [],
   "source": [
    "def one_hot_encode_column(df, col, num_values):\n",
    "    # Create an array to store the one-hot encoded columns\n",
    "    expanded_cols = np.zeros((df.shape[0], num_values), dtype=int)\n",
    "    \n",
    "    # Iterate through each value in the column\n",
    "    for i, val in enumerate(df[col]):\n",
    "        if 0 <= val < num_values:\n",
    "            expanded_cols[i, val] = 1\n",
    "    \n",
    "    # Create a DataFrame with the one-hot encoded columns\n",
    "    expanded_df = pd.DataFrame(expanded_cols, columns=[f\"{col}_{i}\" for i in range(num_values)])\n",
    "    return expanded_df\n",
    "\n",
    "# Define the number of unique values (possible values) for each chess piece\n",
    "columns_to_expand = {\n",
    "    'white_pawn': 12, 'white_knight': 12, 'white_bishop': 12, 'white_rook': 12, \n",
    "    'white_queen': 12, 'white_king': 2, 'black_pawn': 12, 'black_knight': 12, \n",
    "    'black_bishop': 12, 'black_rook': 12, 'black_queen': 12, 'black_king': 2\n",
    "}\n",
    "\n",
    "# Apply one-hot encoding for each column defined in columns_to_expand\n",
    "one_hot_encoded_columns = [one_hot_encode_column(df_chess_test, col, num_values) \n",
    "                           for col, num_values in columns_to_expand.items()]\n",
    "\n",
    "# Concatenate all the one-hot encoded columns into a single DataFrame\n",
    "df_chess_test = pd.concat(one_hot_encoded_columns, axis=1)\n",
    "\n",
    "# df_chess_test now contains the one-hot encoded data for all the columns\n"
   ]
  },
  {
   "cell_type": "code",
   "execution_count": 52,
   "id": "d6c3a7c0",
   "metadata": {
    "execution": {
     "iopub.execute_input": "2024-11-10T14:34:34.413930Z",
     "iopub.status.busy": "2024-11-10T14:34:34.413462Z",
     "iopub.status.idle": "2024-11-10T14:34:34.434896Z",
     "shell.execute_reply": "2024-11-10T14:34:34.433637Z"
    },
    "papermill": {
     "duration": 0.243349,
     "end_time": "2024-11-10T14:34:34.437278",
     "exception": false,
     "start_time": "2024-11-10T14:34:34.193929",
     "status": "completed"
    },
    "tags": []
   },
   "outputs": [
    {
     "data": {
      "text/html": [
       "<div>\n",
       "<style scoped>\n",
       "    .dataframe tbody tr th:only-of-type {\n",
       "        vertical-align: middle;\n",
       "    }\n",
       "\n",
       "    .dataframe tbody tr th {\n",
       "        vertical-align: top;\n",
       "    }\n",
       "\n",
       "    .dataframe thead th {\n",
       "        text-align: right;\n",
       "    }\n",
       "</style>\n",
       "<table border=\"1\" class=\"dataframe\">\n",
       "  <thead>\n",
       "    <tr style=\"text-align: right;\">\n",
       "      <th></th>\n",
       "      <th>white_pawn_0</th>\n",
       "      <th>white_pawn_1</th>\n",
       "      <th>white_pawn_2</th>\n",
       "      <th>white_pawn_3</th>\n",
       "      <th>white_pawn_4</th>\n",
       "      <th>white_pawn_5</th>\n",
       "      <th>white_pawn_6</th>\n",
       "      <th>white_pawn_7</th>\n",
       "      <th>white_pawn_8</th>\n",
       "      <th>white_pawn_9</th>\n",
       "      <th>...</th>\n",
       "      <th>black_queen_4</th>\n",
       "      <th>black_queen_5</th>\n",
       "      <th>black_queen_6</th>\n",
       "      <th>black_queen_7</th>\n",
       "      <th>black_queen_8</th>\n",
       "      <th>black_queen_9</th>\n",
       "      <th>black_queen_10</th>\n",
       "      <th>black_queen_11</th>\n",
       "      <th>black_king_0</th>\n",
       "      <th>black_king_1</th>\n",
       "    </tr>\n",
       "  </thead>\n",
       "  <tbody>\n",
       "    <tr>\n",
       "      <th>0</th>\n",
       "      <td>0</td>\n",
       "      <td>0</td>\n",
       "      <td>0</td>\n",
       "      <td>0</td>\n",
       "      <td>0</td>\n",
       "      <td>0</td>\n",
       "      <td>0</td>\n",
       "      <td>0</td>\n",
       "      <td>1</td>\n",
       "      <td>0</td>\n",
       "      <td>...</td>\n",
       "      <td>0</td>\n",
       "      <td>0</td>\n",
       "      <td>0</td>\n",
       "      <td>0</td>\n",
       "      <td>0</td>\n",
       "      <td>0</td>\n",
       "      <td>0</td>\n",
       "      <td>0</td>\n",
       "      <td>0</td>\n",
       "      <td>1</td>\n",
       "    </tr>\n",
       "    <tr>\n",
       "      <th>1</th>\n",
       "      <td>0</td>\n",
       "      <td>0</td>\n",
       "      <td>0</td>\n",
       "      <td>0</td>\n",
       "      <td>0</td>\n",
       "      <td>1</td>\n",
       "      <td>0</td>\n",
       "      <td>0</td>\n",
       "      <td>0</td>\n",
       "      <td>0</td>\n",
       "      <td>...</td>\n",
       "      <td>0</td>\n",
       "      <td>0</td>\n",
       "      <td>0</td>\n",
       "      <td>0</td>\n",
       "      <td>0</td>\n",
       "      <td>0</td>\n",
       "      <td>0</td>\n",
       "      <td>0</td>\n",
       "      <td>0</td>\n",
       "      <td>1</td>\n",
       "    </tr>\n",
       "    <tr>\n",
       "      <th>2</th>\n",
       "      <td>0</td>\n",
       "      <td>0</td>\n",
       "      <td>0</td>\n",
       "      <td>0</td>\n",
       "      <td>0</td>\n",
       "      <td>1</td>\n",
       "      <td>0</td>\n",
       "      <td>0</td>\n",
       "      <td>0</td>\n",
       "      <td>0</td>\n",
       "      <td>...</td>\n",
       "      <td>0</td>\n",
       "      <td>0</td>\n",
       "      <td>0</td>\n",
       "      <td>0</td>\n",
       "      <td>0</td>\n",
       "      <td>0</td>\n",
       "      <td>0</td>\n",
       "      <td>0</td>\n",
       "      <td>0</td>\n",
       "      <td>1</td>\n",
       "    </tr>\n",
       "    <tr>\n",
       "      <th>3</th>\n",
       "      <td>0</td>\n",
       "      <td>0</td>\n",
       "      <td>0</td>\n",
       "      <td>0</td>\n",
       "      <td>0</td>\n",
       "      <td>0</td>\n",
       "      <td>1</td>\n",
       "      <td>0</td>\n",
       "      <td>0</td>\n",
       "      <td>0</td>\n",
       "      <td>...</td>\n",
       "      <td>0</td>\n",
       "      <td>0</td>\n",
       "      <td>0</td>\n",
       "      <td>0</td>\n",
       "      <td>0</td>\n",
       "      <td>0</td>\n",
       "      <td>0</td>\n",
       "      <td>0</td>\n",
       "      <td>0</td>\n",
       "      <td>1</td>\n",
       "    </tr>\n",
       "    <tr>\n",
       "      <th>4</th>\n",
       "      <td>0</td>\n",
       "      <td>0</td>\n",
       "      <td>0</td>\n",
       "      <td>0</td>\n",
       "      <td>0</td>\n",
       "      <td>0</td>\n",
       "      <td>1</td>\n",
       "      <td>0</td>\n",
       "      <td>0</td>\n",
       "      <td>0</td>\n",
       "      <td>...</td>\n",
       "      <td>0</td>\n",
       "      <td>0</td>\n",
       "      <td>0</td>\n",
       "      <td>0</td>\n",
       "      <td>0</td>\n",
       "      <td>0</td>\n",
       "      <td>0</td>\n",
       "      <td>0</td>\n",
       "      <td>0</td>\n",
       "      <td>1</td>\n",
       "    </tr>\n",
       "  </tbody>\n",
       "</table>\n",
       "<p>5 rows × 124 columns</p>\n",
       "</div>"
      ],
      "text/plain": [
       "   white_pawn_0  white_pawn_1  white_pawn_2  white_pawn_3  white_pawn_4  \\\n",
       "0             0             0             0             0             0   \n",
       "1             0             0             0             0             0   \n",
       "2             0             0             0             0             0   \n",
       "3             0             0             0             0             0   \n",
       "4             0             0             0             0             0   \n",
       "\n",
       "   white_pawn_5  white_pawn_6  white_pawn_7  white_pawn_8  white_pawn_9  ...  \\\n",
       "0             0             0             0             1             0  ...   \n",
       "1             1             0             0             0             0  ...   \n",
       "2             1             0             0             0             0  ...   \n",
       "3             0             1             0             0             0  ...   \n",
       "4             0             1             0             0             0  ...   \n",
       "\n",
       "   black_queen_4  black_queen_5  black_queen_6  black_queen_7  black_queen_8  \\\n",
       "0              0              0              0              0              0   \n",
       "1              0              0              0              0              0   \n",
       "2              0              0              0              0              0   \n",
       "3              0              0              0              0              0   \n",
       "4              0              0              0              0              0   \n",
       "\n",
       "   black_queen_9  black_queen_10  black_queen_11  black_king_0  black_king_1  \n",
       "0              0               0               0             0             1  \n",
       "1              0               0               0             0             1  \n",
       "2              0               0               0             0             1  \n",
       "3              0               0               0             0             1  \n",
       "4              0               0               0             0             1  \n",
       "\n",
       "[5 rows x 124 columns]"
      ]
     },
     "execution_count": 52,
     "metadata": {},
     "output_type": "execute_result"
    }
   ],
   "source": [
    "df_chess_test.head()"
   ]
  },
  {
   "cell_type": "code",
   "execution_count": 53,
   "id": "cd0a8aad",
   "metadata": {
    "execution": {
     "iopub.execute_input": "2024-11-10T14:34:34.872691Z",
     "iopub.status.busy": "2024-11-10T14:34:34.872239Z",
     "iopub.status.idle": "2024-11-10T14:34:34.961967Z",
     "shell.execute_reply": "2024-11-10T14:34:34.960909Z"
    },
    "papermill": {
     "duration": 0.310413,
     "end_time": "2024-11-10T14:34:34.964650",
     "exception": false,
     "start_time": "2024-11-10T14:34:34.654237",
     "status": "completed"
    },
    "tags": []
   },
   "outputs": [],
   "source": [
    "int_columns = df_chess_test.select_dtypes(include='int64').columns  # Select columns with int data type\n",
    "df_chess_test[int_columns] = df_chess_test[int_columns].astype('category') "
   ]
  },
  {
   "cell_type": "code",
   "execution_count": 54,
   "id": "a7e312f5",
   "metadata": {
    "execution": {
     "iopub.execute_input": "2024-11-10T14:34:35.408885Z",
     "iopub.status.busy": "2024-11-10T14:34:35.408044Z",
     "iopub.status.idle": "2024-11-10T14:34:50.184170Z",
     "shell.execute_reply": "2024-11-10T14:34:50.183040Z"
    },
    "papermill": {
     "duration": 15.0004,
     "end_time": "2024-11-10T14:34:50.187562",
     "exception": false,
     "start_time": "2024-11-10T14:34:35.187162",
     "status": "completed"
    },
    "tags": []
   },
   "outputs": [],
   "source": [
    "X_real_test = np.array(df_chess_test.values)\n",
    "y_preds = modelog.predict(X_real_test)"
   ]
  },
  {
   "cell_type": "code",
   "execution_count": 55,
   "id": "b4edc934",
   "metadata": {
    "execution": {
     "iopub.execute_input": "2024-11-10T14:34:50.642924Z",
     "iopub.status.busy": "2024-11-10T14:34:50.641924Z",
     "iopub.status.idle": "2024-11-10T14:34:50.658983Z",
     "shell.execute_reply": "2024-11-10T14:34:50.657917Z"
    },
    "papermill": {
     "duration": 0.246282,
     "end_time": "2024-11-10T14:34:50.661682",
     "exception": false,
     "start_time": "2024-11-10T14:34:50.415400",
     "status": "completed"
    },
    "tags": []
   },
   "outputs": [],
   "source": [
    "df_test = pd.read_csv('/kaggle/input/the-streets-chess-showdown-white-vs-black/sample_submission.csv')\n",
    "columns = ['id','evaluation']\n",
    "df_ans = pd.DataFrame(columns=columns)\n",
    "id_vals = df_test['image_id'].values"
   ]
  },
  {
   "cell_type": "code",
   "execution_count": 56,
   "id": "f20750f4",
   "metadata": {
    "execution": {
     "iopub.execute_input": "2024-11-10T14:34:51.139066Z",
     "iopub.status.busy": "2024-11-10T14:34:51.138065Z",
     "iopub.status.idle": "2024-11-10T14:34:51.145472Z",
     "shell.execute_reply": "2024-11-10T14:34:51.144357Z"
    },
    "papermill": {
     "duration": 0.234639,
     "end_time": "2024-11-10T14:34:51.147933",
     "exception": false,
     "start_time": "2024-11-10T14:34:50.913294",
     "status": "completed"
    },
    "tags": []
   },
   "outputs": [],
   "source": [
    "df_ans['id'] = id_vals\n",
    "df_ans['evaluation'] = y_preds"
   ]
  },
  {
   "cell_type": "code",
   "execution_count": 57,
   "id": "d641f7db",
   "metadata": {
    "execution": {
     "iopub.execute_input": "2024-11-10T14:34:51.590806Z",
     "iopub.status.busy": "2024-11-10T14:34:51.589778Z",
     "iopub.status.idle": "2024-11-10T14:34:51.603958Z",
     "shell.execute_reply": "2024-11-10T14:34:51.602627Z"
    },
    "papermill": {
     "duration": 0.23602,
     "end_time": "2024-11-10T14:34:51.606406",
     "exception": false,
     "start_time": "2024-11-10T14:34:51.370386",
     "status": "completed"
    },
    "tags": []
   },
   "outputs": [
    {
     "name": "stdout",
     "output_type": "stream",
     "text": [
      "id            8539\n",
      "evaluation       3\n",
      "dtype: int64\n",
      "Duplicate IDs:\n",
      "            id  evaluation\n",
      "2495  18078547           1\n",
      "Unique values after removing duplicates:\n",
      "id            8539\n",
      "evaluation       3\n",
      "dtype: int64\n"
     ]
    }
   ],
   "source": [
    "print(df_ans.nunique())\n",
    "\n",
    "duplicates = df_ans[df_ans['id'].duplicated()]\n",
    "\n",
    "print(\"Duplicate IDs:\")\n",
    "print(duplicates)\n",
    "df_ans = df_ans.drop_duplicates(subset=['id'], keep='first')\n",
    "\n",
    "print(\"Unique values after removing duplicates:\")\n",
    "print(df_ans.nunique())\n"
   ]
  },
  {
   "cell_type": "code",
   "execution_count": 58,
   "id": "3890f445",
   "metadata": {
    "execution": {
     "iopub.execute_input": "2024-11-10T14:34:52.103814Z",
     "iopub.status.busy": "2024-11-10T14:34:52.103382Z",
     "iopub.status.idle": "2024-11-10T14:34:52.110397Z",
     "shell.execute_reply": "2024-11-10T14:34:52.109098Z"
    },
    "papermill": {
     "duration": 0.231309,
     "end_time": "2024-11-10T14:34:52.112829",
     "exception": false,
     "start_time": "2024-11-10T14:34:51.881520",
     "status": "completed"
    },
    "tags": []
   },
   "outputs": [],
   "source": [
    "label_mappings = {2:'white',1:'black',0:'equal'}\n",
    "df_ans['evaluation'] = df_ans['evaluation'].map(label_mappings)"
   ]
  },
  {
   "cell_type": "code",
   "execution_count": 59,
   "id": "84f23188",
   "metadata": {
    "execution": {
     "iopub.execute_input": "2024-11-10T14:34:52.551867Z",
     "iopub.status.busy": "2024-11-10T14:34:52.551439Z",
     "iopub.status.idle": "2024-11-10T14:34:52.573191Z",
     "shell.execute_reply": "2024-11-10T14:34:52.571911Z"
    },
    "papermill": {
     "duration": 0.243131,
     "end_time": "2024-11-10T14:34:52.575665",
     "exception": false,
     "start_time": "2024-11-10T14:34:52.332534",
     "status": "completed"
    },
    "tags": []
   },
   "outputs": [],
   "source": [
    "df_ans.to_csv('/kaggle/working/submission_csv_final.csv',index=False)"
   ]
  },
  {
   "cell_type": "code",
   "execution_count": null,
   "id": "9a662453",
   "metadata": {
    "papermill": {
     "duration": 0.219085,
     "end_time": "2024-11-10T14:34:53.012347",
     "exception": false,
     "start_time": "2024-11-10T14:34:52.793262",
     "status": "completed"
    },
    "tags": []
   },
   "outputs": [],
   "source": []
  }
 ],
 "metadata": {
  "kaggle": {
   "accelerator": "none",
   "dataSources": [
    {
     "databundleVersionId": 9928589,
     "sourceId": 87310,
     "sourceType": "competition"
    },
    {
     "datasetId": 5977186,
     "sourceId": 9760852,
     "sourceType": "datasetVersion"
    },
    {
     "datasetId": 5980991,
     "sourceId": 9765895,
     "sourceType": "datasetVersion"
    },
    {
     "datasetId": 5979601,
     "sourceId": 9763992,
     "sourceType": "datasetVersion"
    },
    {
     "datasetId": 5993270,
     "sourceId": 9782482,
     "sourceType": "datasetVersion"
    },
    {
     "datasetId": 5993261,
     "sourceId": 9782469,
     "sourceType": "datasetVersion"
    },
    {
     "datasetId": 5993226,
     "sourceId": 9782427,
     "sourceType": "datasetVersion"
    }
   ],
   "dockerImageVersionId": 30786,
   "isGpuEnabled": false,
   "isInternetEnabled": true,
   "language": "python",
   "sourceType": "notebook"
  },
  "kernelspec": {
   "display_name": "Python 3",
   "language": "python",
   "name": "python3"
  },
  "language_info": {
   "codemirror_mode": {
    "name": "ipython",
    "version": 3
   },
   "file_extension": ".py",
   "mimetype": "text/x-python",
   "name": "python",
   "nbconvert_exporter": "python",
   "pygments_lexer": "ipython3",
   "version": "3.10.14"
  },
  "papermill": {
   "default_parameters": {},
   "duration": 1124.202079,
   "end_time": "2024-11-10T14:34:55.160610",
   "environment_variables": {},
   "exception": null,
   "input_path": "__notebook__.ipynb",
   "output_path": "__notebook__.ipynb",
   "parameters": {},
   "start_time": "2024-11-10T14:16:10.958531",
   "version": "2.6.0"
  }
 },
 "nbformat": 4,
 "nbformat_minor": 5
}
